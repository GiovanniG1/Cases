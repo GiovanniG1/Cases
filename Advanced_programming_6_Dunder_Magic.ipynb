{
  "nbformat": 4,
  "nbformat_minor": 0,
  "metadata": {
    "colab": {
      "name": "Advanced_programming_6_Dunder_Magic.ipynb",
      "provenance": [],
      "collapsed_sections": []
    },
    "kernelspec": {
      "name": "python3",
      "display_name": "Python 3"
    }
  },
  "cells": [
    {
      "cell_type": "markdown",
      "metadata": {
        "id": "jwJQBq3uM2ma"
      },
      "source": [
        "## Confidentiality\r\n",
        "\r\n",
        "The programmatic cases in this notebook are utilized from different internet resources.\r\n",
        "\r\n",
        "Please do not copy or distribute this notebook."
      ]
    },
    {
      "cell_type": "markdown",
      "metadata": {
        "id": "sIOE-kg3HE3j"
      },
      "source": [
        "## Table of content\n",
        "\n",
        "Dunder/Magic\n",
        "\n",
        "1. Programmatic case 1 \n",
        "2. Programmatic case 2 \n",
        "3. Programmatic case 3\n",
        "4. Programmatic case 4 \n",
        "5. Programmatic case 5 \n",
        "6. Programmatic case 6 \n",
        "7. Programmatic case 7\n",
        "8. Programmatic case 8\n",
        "9. Programmatic case 9"
      ]
    },
    {
      "cell_type": "markdown",
      "metadata": {
        "id": "UvAiUEz_M6rc"
      },
      "source": [
        "## Previous knowledge\r\n",
        "\r\n",
        "Please study the following resources for a deep understanding of this notebook.\r\n",
        "\r\n",
        "1. https://bit.ly/35sjwhk \r\n",
        "(3.3. Special method names)\r\n",
        "2. https://bit.ly/35pZDaC \r\n",
        "(https://bit.ly/3nnt03u)\r\n",
        "(Python Dunder/Magic topics)\r\n"
      ]
    },
    {
      "cell_type": "markdown",
      "metadata": {
        "id": "msFY8GTxM-Iq"
      },
      "source": [
        "## Introduction\r\n",
        "\r\n",
        "In this notebook, multiple programmatic cases are described to present how Python Dunder/Magic work."
      ]
    },
    {
      "cell_type": "markdown",
      "metadata": {
        "id": "ppDVOQWdBsmL"
      },
      "source": [
        "### Programmatic case 1"
      ]
    },
    {
      "cell_type": "code",
      "metadata": {
        "colab": {
          "base_uri": "https://localhost:8080/"
        },
        "id": "oS1qhc7zBpXq",
        "outputId": "92898c8f-bafd-4b86-d88d-42c8c0afb2f3"
      },
      "source": [
        "class A:\r\n",
        "  def __new__(cls):\r\n",
        "    print('Creation of A')\r\n",
        "    instance = super().__new__(cls)\r\n",
        "    return instance\r\n",
        "  \r\n",
        "  def __init__(self):\r\n",
        "    print('Initialization')\r\n",
        "\r\n",
        "  def __del__(self):\r\n",
        "    print('Delete')\r\n",
        "\r\n",
        "a = A()\r\n",
        "del a"
      ],
      "execution_count": null,
      "outputs": [
        {
          "output_type": "stream",
          "text": [
            "Creation of A\n",
            "Initialization\n",
            "Delete\n"
          ],
          "name": "stdout"
        }
      ]
    },
    {
      "cell_type": "markdown",
      "metadata": {
        "id": "6ZZm8ziXCKUP"
      },
      "source": [
        "### Programmatic case 2"
      ]
    },
    {
      "cell_type": "code",
      "metadata": {
        "colab": {
          "base_uri": "https://localhost:8080/"
        },
        "id": "Ku7JSzd_CHxX",
        "outputId": "05f60979-89d8-4242-83e3-ff293c572efc"
      },
      "source": [
        "class B:\r\n",
        "    def __init__(self, a):\r\n",
        "        self.a = a\r\n",
        "\r\n",
        "    def __repr__(self):\r\n",
        "        return f'B ({self.a})'\r\n",
        "\r\n",
        "    def __str__(self):\r\n",
        "        return f'B with {self.a}'\r\n",
        "\r\n",
        "    def __bytes__(self):\r\n",
        "        return self.a.to_bytes(4, byteorder='big')\r\n",
        "\r\n",
        "    def __format__(self, spec):\r\n",
        "        if spec == 'f':\r\n",
        "            return str(self.a)\r\n",
        "        return str(self)\r\n",
        "\r\n",
        "b = B(10)\r\n",
        "print(repr(b))\r\n",
        "print(str(b))\r\n",
        "print(bytes(b))\r\n",
        "print(format(b, 'f'))"
      ],
      "execution_count": null,
      "outputs": [
        {
          "output_type": "stream",
          "text": [
            "B (10)\n",
            "B with 10\n",
            "b'\\x00\\x00\\x00\\n'\n",
            "10\n"
          ],
          "name": "stdout"
        }
      ]
    },
    {
      "cell_type": "markdown",
      "metadata": {
        "id": "_zwuF4LBC_N3"
      },
      "source": [
        "### Programmatic case 3"
      ]
    },
    {
      "cell_type": "code",
      "metadata": {
        "colab": {
          "base_uri": "https://localhost:8080/"
        },
        "id": "ZHiNi6IVDAnR",
        "outputId": "9af04982-01b0-489a-d448-62d514f51ba9"
      },
      "source": [
        "class C:\r\n",
        "    def __init__(self, age):\r\n",
        "        self.age = age\r\n",
        "\r\n",
        "    def __eq__(self, other):\r\n",
        "        return self.age == other.age\r\n",
        "\r\n",
        "    def __ne__(self, other):\r\n",
        "        return not self.__eq__(other)\r\n",
        "    \r\n",
        "    def __lt__(self, other):\r\n",
        "        return self.age < other.age\r\n",
        "\r\n",
        "    def __le__(self, other):\r\n",
        "        return self.age <= other.age\r\n",
        "\r\n",
        "    def __gt__(self, other):\r\n",
        "        return self.age > other.age\r\n",
        "\r\n",
        "    def __ge__(self, other):\r\n",
        "        return self.age >= other.age\r\n",
        "\r\n",
        "    def __hash__(self):\r\n",
        "        return hash(self.age)\r\n",
        "\r\n",
        "    def __bool__(self):\r\n",
        "        return self.age > 0\r\n",
        "\r\n",
        "Gregor = C(30)\r\n",
        "Ben = C(28)\r\n",
        "rel = 'older' if Gregor > Ben else 'younger'\r\n",
        "print(f'Gregor is {rel} than Ben')\r\n",
        "print(hash(Gregor))"
      ],
      "execution_count": null,
      "outputs": [
        {
          "output_type": "stream",
          "text": [
            "Gregor is older than Ben\n",
            "30\n"
          ],
          "name": "stdout"
        }
      ]
    },
    {
      "cell_type": "markdown",
      "metadata": {
        "id": "Nx1a438ReRja"
      },
      "source": [
        "### Programmatic case 4"
      ]
    },
    {
      "cell_type": "code",
      "metadata": {
        "colab": {
          "base_uri": "https://localhost:8080/"
        },
        "id": "uV6ALXmwFvMK",
        "outputId": "ccbe29d4-3d1a-41f5-f4d9-bcf98da6f117"
      },
      "source": [
        "class D:\r\n",
        "    '''A class that contains a value and implements an access counter.\r\n",
        "    The counter increments each time the value is changed.'''\r\n",
        "    def __init__(self, val):\r\n",
        "        super().__setattr__('counter', 0)\r\n",
        "        super().__setattr__('value', val)\r\n",
        "\r\n",
        "    def __setattr__(self, name, value):\r\n",
        "        if name == 'value':\r\n",
        "            super().__setattr__('counter', self.counter + 1)\r\n",
        "        super().__setattr__(name, value)\r\n",
        "\r\n",
        "    def __delattr__(self, name):\r\n",
        "        if name == 'value':\r\n",
        "            super().__setattr__('counter', self.counter + 1)\r\n",
        "        super().__delattr__(name)\r\n",
        "\r\n",
        "d = D(1)\r\n",
        "print(d.value, d.counter)\r\n",
        "d.value = 2\r\n",
        "print(d.value, d.counter)"
      ],
      "execution_count": null,
      "outputs": [
        {
          "output_type": "stream",
          "text": [
            "1 0\n",
            "2 1\n"
          ],
          "name": "stdout"
        }
      ]
    },
    {
      "cell_type": "markdown",
      "metadata": {
        "id": "JPHxijiGFsgY"
      },
      "source": [
        "### Programmatic case 5"
      ]
    },
    {
      "cell_type": "code",
      "metadata": {
        "colab": {
          "base_uri": "https://localhost:8080/"
        },
        "id": "6epawie5g1US",
        "outputId": "b5cd8277-ecfd-4147-d49f-7aa9cfe36abf"
      },
      "source": [
        "class Celsius:\r\n",
        "    '''Descriptor for celsius value.'''\r\n",
        "    def __init__(self, value=0.0):\r\n",
        "        self.value = float(value)\r\n",
        "    \r\n",
        "    def __get__(self, instance, owner):\r\n",
        "        return self.value\r\n",
        "\r\n",
        "    def __set__(self, instance, value):\r\n",
        "        self.value = float(value)\r\n",
        "\r\n",
        "\r\n",
        "class Fahrenheit:\r\n",
        "    '''Descriptor for farenheit value.'''\r\n",
        "    def __get__(self, instance, owner):\r\n",
        "        return (instance.celsius * 9 / 5) + 32.0\r\n",
        "\r\n",
        "    def __set__(self, instance, value):\r\n",
        "        instance.celsius = (value - 32) * 5 / 9\r\n",
        "\r\n",
        "\r\n",
        "class Temperature:\r\n",
        "    celsius = Celsius()\r\n",
        "    fahrenheit = Fahrenheit()\r\n",
        "\r\n",
        "e = Temperature()\r\n",
        "e.celsius = 10\r\n",
        "print(f'{e.celsius} ºC = {e.fahrenheit} ºF')\r\n",
        "e.fahrenheit = 45\r\n",
        "print(f'{e.celsius} ºC = {e.fahrenheit} ºF')"
      ],
      "execution_count": null,
      "outputs": [
        {
          "output_type": "stream",
          "text": [
            "10.0 ºC = 50.0 ºF\n",
            "7.222222222222222 ºC = 45.0 ºF\n"
          ],
          "name": "stdout"
        }
      ]
    },
    {
      "cell_type": "markdown",
      "metadata": {
        "id": "gK8BLKTniigU"
      },
      "source": [
        "### Programmatic case 6"
      ]
    },
    {
      "cell_type": "code",
      "metadata": {
        "colab": {
          "base_uri": "https://localhost:8080/"
        },
        "id": "yAjxRkvfifsC",
        "outputId": "b329bb5e-2da5-4610-9798-b03c0d307f1f"
      },
      "source": [
        "class FunctionalList:\r\n",
        "    '''A class wrapping a list with some extra functional magic'''\r\n",
        "    def __init__(self, values=None):\r\n",
        "        if values is None:\r\n",
        "            self.values = []\r\n",
        "        else:\r\n",
        "            self.values = values\r\n",
        "\r\n",
        "    def __len__(self):\r\n",
        "        return len(self.values)\r\n",
        "\r\n",
        "    def __getitem__(self, key):\r\n",
        "        return self.values[key]\r\n",
        "\r\n",
        "    def __setitem__(self, key, value):\r\n",
        "        self.values[key] = value\r\n",
        "\r\n",
        "    def __delitem__(self, key):\r\n",
        "        del self.values[key]\r\n",
        "\r\n",
        "    def __iter__(self):\r\n",
        "        return iter(self.values)\r\n",
        "\r\n",
        "    def __reversed__(self):\r\n",
        "        return reversed(self.values)\r\n",
        "\r\n",
        "    def head(self, n):\r\n",
        "        return self.values[:n]\r\n",
        "\r\n",
        "    def tail(self, n):\r\n",
        "        return self.values[n:]\r\n",
        "\r\n",
        "    def first(self):\r\n",
        "        return self.values[0]\r\n",
        "\r\n",
        "    def last(self):\r\n",
        "        return self.values[-1]\r\n",
        " \r\n",
        "a = FunctionalList([1, 2, 3, 4])\r\n",
        "print(a.__len__())\r\n",
        "print(a.head(2))\r\n",
        "print(a.tail(2))\r\n",
        "print(a.first())\r\n",
        "print(a.last())\r\n",
        "print(a[0])\r\n",
        "\r\n"
      ],
      "execution_count": null,
      "outputs": [
        {
          "output_type": "stream",
          "text": [
            "4\n",
            "[1, 2]\n",
            "[3, 4]\n",
            "1\n",
            "4\n",
            "1\n"
          ],
          "name": "stdout"
        }
      ]
    },
    {
      "cell_type": "markdown",
      "metadata": {
        "id": "8b6bvwCXnOk3"
      },
      "source": [
        "### Programmatic case 7"
      ]
    },
    {
      "cell_type": "code",
      "metadata": {
        "colab": {
          "base_uri": "https://localhost:8080/"
        },
        "id": "eHD-lFX7nMx5",
        "outputId": "a6d481b6-46e5-4af0-9db8-b97886c3e778"
      },
      "source": [
        "class Account:\r\n",
        "    def __init__(self, balance=0):\r\n",
        "        self.balance = balance\r\n",
        "\r\n",
        "    def __add__(self, other):\r\n",
        "        total = self.balance\r\n",
        "        if isinstance(other, Account):\r\n",
        "            total += other.balance\r\n",
        "        else:\r\n",
        "            total += other\r\n",
        "        return Account(total)\r\n",
        "\r\n",
        "    def __radd__(self, other):\r\n",
        "        total = self.balance + other\r\n",
        "        return Account(total)\r\n",
        "\r\n",
        "    def __iadd__(self, other):\r\n",
        "        total = self.__add__(other)\r\n",
        "        self.balance = total.balance\r\n",
        "        return self\r\n",
        "\r\n",
        "    def __str__(self):\r\n",
        "        return f'Balance: {self.balance}' \r\n",
        "\r\n",
        "a = Account(10)\r\n",
        "b = Account(20)\r\n",
        "c = a + b\r\n",
        "b += 20\r\n",
        "a = 10 + b\r\n",
        "print(a)\r\n",
        "print(b)\r\n",
        "print(c)\r\n"
      ],
      "execution_count": null,
      "outputs": [
        {
          "output_type": "stream",
          "text": [
            "Balance: 50\n",
            "Balance: 40\n",
            "Balance: 30\n"
          ],
          "name": "stdout"
        }
      ]
    },
    {
      "cell_type": "markdown",
      "metadata": {
        "id": "WsTBQ2OJqxaf"
      },
      "source": [
        "### Programmatic case 8"
      ]
    },
    {
      "cell_type": "code",
      "metadata": {
        "colab": {
          "base_uri": "https://localhost:8080/"
        },
        "id": "1ZioQTbDqn1V",
        "outputId": "4dcad622-2339-4636-cf10-55f9a65e74fc"
      },
      "source": [
        "class Point:\r\n",
        "    def __init__(self, x, y):\r\n",
        "        self.x, self.y = x, y\r\n",
        "\r\n",
        "    def __call__(self, x, y):\r\n",
        "        self.x, self.y = x, y\r\n",
        "\r\n",
        "    def __str__(self):\r\n",
        "        return f'({self.x}, {self.y})'\r\n",
        "\r\n",
        "p = Point(100, 200)\r\n",
        "print(p)\r\n",
        "p(300, 400)\r\n",
        "print(p)"
      ],
      "execution_count": null,
      "outputs": [
        {
          "output_type": "stream",
          "text": [
            "(100, 200)\n",
            "(300, 400)\n"
          ],
          "name": "stdout"
        }
      ]
    },
    {
      "cell_type": "markdown",
      "metadata": {
        "id": "mPQIDIw-igTE"
      },
      "source": [
        ""
      ]
    },
    {
      "cell_type": "markdown",
      "metadata": {
        "id": "vWsDmzjxTdWb"
      },
      "source": [
        "### Programmatic case 9"
      ]
    },
    {
      "cell_type": "code",
      "metadata": {
        "colab": {
          "base_uri": "https://localhost:8080/"
        },
        "id": "jt8_me0eYe_6",
        "outputId": "2797bc32-3ad3-4d55-bf93-2d758ecbe030"
      },
      "source": [
        "# declare our own string class \r\n",
        "class String: \r\n",
        "      \r\n",
        "    # magic method to initiate object \r\n",
        "    def __init__(self, string): \r\n",
        "        self.string = string  \r\n",
        "          \r\n",
        "    # print our string object \r\n",
        "    def __repr__(self): \r\n",
        "        return 'Object: {}'.format(self.string) \r\n",
        "          \r\n",
        "    def __add__(self, other): \r\n",
        "        return self.string + other \r\n",
        "  \r\n",
        "# Driver Code \r\n",
        "if __name__ == '__main__': \r\n",
        "      \r\n",
        "    # object creation \r\n",
        "    string1 = String('Hello') \r\n",
        "      \r\n",
        "    # concatenate String object and a string \r\n",
        "    print(string1 +' Geeks') "
      ],
      "execution_count": null,
      "outputs": [
        {
          "output_type": "stream",
          "text": [
            "Hello Geeks\n"
          ],
          "name": "stdout"
        }
      ]
    },
    {
      "cell_type": "code",
      "metadata": {
        "id": "mhyTxMUUAVod"
      },
      "source": [
        ""
      ],
      "execution_count": null,
      "outputs": []
    }
  ]
}