{
  "nbformat": 4,
  "nbformat_minor": 0,
  "metadata": {
    "colab": {
      "name": "Advanced_Programming10_SuperCase_1_Structured_data_v3.ipynb",
      "provenance": [],
      "collapsed_sections": []
    },
    "kernelspec": {
      "name": "python2",
      "display_name": "Python 2"
    }
  },
  "cells": [
    {
      "cell_type": "markdown",
      "metadata": {
        "id": "puozYNWhp85y"
      },
      "source": [
        "## Confidentiality\r\n",
        "\r\n",
        "The programmatic cases in this notebook are utilized from different internet resources (in this notebook especially from kaggle.com) and are for demonstrational purposes only.\r\n",
        "\r\n",
        "Please do not copy or distribute this notebook."
      ]
    },
    {
      "cell_type": "markdown",
      "metadata": {
        "id": "cYh2E9iep-Md"
      },
      "source": [
        "## Table of content\r\n",
        "\r\n",
        "Census Income Data\r\n",
        "\r\n",
        "1. Programmatic case 1 \r\n",
        "2. Programmatic case 2"
      ]
    },
    {
      "cell_type": "markdown",
      "metadata": {
        "id": "NNNVI_kHqBnY"
      },
      "source": [
        "## Previous knowledge\r\n",
        "\r\n",
        "For a good understanding of this notebook you should have a few years of data-science and programming experience and have studied the advanced programming notebooks."
      ]
    },
    {
      "cell_type": "markdown",
      "metadata": {
        "id": "WhhWdLl0qBpx"
      },
      "source": [
        "#### Programmatic case 1"
      ]
    },
    {
      "cell_type": "code",
      "metadata": {
        "id": "u9CH-6oiuX4U"
      },
      "source": [
        "######################################################################################################################\r\n",
        "######################################################################################################################\r\n",
        "##2) Prediction 1 - Advanced Program \r\n",
        "\r\n",
        "#2.1) LGBM Ensemble"
      ],
      "execution_count": null,
      "outputs": []
    },
    {
      "cell_type": "code",
      "metadata": {
        "colab": {
          "base_uri": "https://localhost:8080/"
        },
        "id": "moxjZebleJYN",
        "outputId": "f68ceed9-dc8b-4e55-e092-9d0550d6bd5d"
      },
      "source": [
        "import pandas as pd\r\n",
        "import numpy as np\r\n",
        "\r\n",
        "from sklearn.model_selection import StratifiedKFold\r\n",
        "from sklearn.model_selection import cross_val_score\r\n",
        "\r\n",
        "from xgboost import XGBClassifier\r\n",
        "from lightgbm import LGBMClassifier\r\n",
        "\r\n",
        "!pip install catboost\r\n",
        "!pip install ipywidgets\r\n",
        "!jupyter nbextension enable --py widgetsnbextension\r\n",
        "from catboost import CatBoostClassifier\r\n",
        "\r\n",
        "from sklearn.linear_model import LogisticRegression\r\n",
        "from sklearn.ensemble import GradientBoostingClassifier, RandomForestClassifier, ExtraTreesClassifier, AdaBoostClassifier\r\n",
        "from sklearn.model_selection import train_test_split\r\n",
        "\r\n",
        "# Regularized Greedy Forest\r\n",
        "!pip install rgf_python -v\r\n",
        "from rgf.sklearn import RGFClassifier     # https://github.com/fukatani/rgf_python\r\n",
        "\r\n",
        "import datetime\r\n",
        "import pandas as pd\r\n",
        "import xgboost as xgb\r\n",
        "import numpy as np\r\n",
        "import json, math, os, sys\r\n",
        "\r\n",
        "from sklearn.base import BaseEstimator, TransformerMixin\r\n",
        "from sklearn.preprocessing import StandardScaler\r\n",
        "from sklearn.pipeline import FeatureUnion, make_pipeline\r\n",
        "\r\n",
        "import warnings\r\n",
        "warnings.filterwarnings(action='ignore', category=DeprecationWarning)\r\n",
        "\r\n",
        "!wget https://archive.ics.uci.edu/ml/machine-learning-databases/adult/adult.data\r\n",
        "\r\n",
        "\r\n",
        "census_data_filename = './adult.data'\r\n",
        "\r\n",
        "# These are the column labels from the census data files\r\n",
        "COLUMNS = (\r\n",
        "    'age',\r\n",
        "    'workclass',\r\n",
        "    'fnlwgt',\r\n",
        "    'education',\r\n",
        "    'education-num',\r\n",
        "    'marital-status',\r\n",
        "    'occupation',\r\n",
        "    'relationship',\r\n",
        "    'Clothing',\r\n",
        "    'Gender',\r\n",
        "    'capital-gain',\r\n",
        "    'capital-loss',\r\n",
        "    'hours-per-week',\r\n",
        "    'native-country',\r\n",
        "    'income-level'\r\n",
        ")\r\n",
        "\r\n",
        "# Loading the training census dataset\r\n",
        "with open(census_data_filename, 'r') as train_data:\r\n",
        "    raw_training_data = pd.read_csv(train_data, header=None, names=COLUMNS)\r\n",
        "\r\n",
        "# Class 1: Pre-processing\r\n",
        "raw_training_data.head()\r\n",
        "\r\n",
        "train = raw_training_data.drop('income-level', axis=1).values\r\n",
        "# Creating training labels list\r\n",
        "target_train = (raw_training_data['income-level'] == ' >50K').values\r\n",
        "\r\n",
        "target_train, bin= train_test_split(target_train, train_size=0.70)\r\n",
        "\r\n",
        "\r\n",
        "# Class 1.1 Positionalselector\r\n",
        "class PositionalSelector(BaseEstimator, TransformerMixin):\r\n",
        "    def __init__(self, positions):\r\n",
        "        self.positions = positions\r\n",
        "\r\n",
        "    def fit(self, X, y=None):\r\n",
        "        return self\r\n",
        "\r\n",
        "    def transform(self, X):\r\n",
        "        return np.array(X)[:, self.positions]\r\n",
        "\r\n",
        "# Class 1.2 CleanString\r\n",
        "class CleanString(BaseEstimator, TransformerMixin):\r\n",
        "    def fit(self, X, y=None):\r\n",
        "        return self\r\n",
        "\r\n",
        "    def transform(self, X):\r\n",
        "        strip = np.vectorize(str.strip)\r\n",
        "        return strip(np.array(X))\r\n",
        "\r\n",
        "# Class 1.3 SimpleOneHotEncoder\r\n",
        "class SimpleOneHotEncoder(BaseEstimator, TransformerMixin):\r\n",
        "    def fit(self, X, y=None):\r\n",
        "        self.values = []\r\n",
        "        for c in range(X.shape[1]):\r\n",
        "            Y = X[:, c]\r\n",
        "            values = {v: i for i, v in enumerate(np.unique(Y))}\r\n",
        "            self.values.append(values)\r\n",
        "        return self\r\n",
        "\r\n",
        "    def transform(self, X):\r\n",
        "        X = np.array(X)\r\n",
        "        matrices = []\r\n",
        "        for c in range(X.shape[1]):\r\n",
        "            Y = X[:, c]\r\n",
        "            matrix = np.zeros(shape=(len(Y), len(self.values[c])), dtype=np.int8)\r\n",
        "            for i, x in enumerate(Y):\r\n",
        "                if x in self.values[c]:\r\n",
        "                    matrix[i][self.values[c][x]] = 1\r\n",
        "            matrices.append(matrix)\r\n",
        "        res = np.concatenate(matrices, axis=1)\r\n",
        "        return res\r\n",
        "\r\n",
        "# Class 1.4 Makepipeline\r\n",
        "\r\n",
        "# Categorical features: age and hours-per-week\r\n",
        "# Numerical features: workclass, marital-status, and relationship\r\n",
        "numerical_indices = [0, 12]  # age-num, and hours-per-week\r\n",
        "categorical_indices = [1, 3, 5, 7]  # workclass, education, marital-status, and relationship\r\n",
        "\r\n",
        "p1 = make_pipeline(PositionalSelector(categorical_indices), \r\n",
        "                   StripString(), \r\n",
        "                   SimpleOneHotEncoder())\r\n",
        "p2 = make_pipeline(PositionalSelector(numerical_indices), \r\n",
        "                   StandardScaler())\r\n",
        "\r\n",
        "pipeline = FeatureUnion([\r\n",
        "    ('numericals', p1),\r\n",
        "    ('categoricals', p2),\r\n",
        "])\r\n",
        "\r\n",
        "train_features = pipeline.fit_transform(raw_features)\r\n",
        "\r\n",
        "train, test= train_test_split(train_features, train_size=0.70)\r\n",
        "print(train.shape, test.shape)\r\n",
        "\r\n",
        "\r\n",
        "# Class 2: Ensembling\r\n",
        "\r\n",
        "# Class 2.1 Ensemble\r\n",
        "class Ensemble(object):\r\n",
        "    def __init__(self, n_splits, stacker, base_models):\r\n",
        "        self.n_splits = n_splits\r\n",
        "        self.stacker = stacker\r\n",
        "        self.base_models = base_models\r\n",
        "\r\n",
        "    def fit_predict(self, X, y, T):\r\n",
        "        X = np.array(X)\r\n",
        "        y = np.array(y)\r\n",
        "        T = np.array(T)\r\n",
        "\r\n",
        "        folds = list(StratifiedKFold(n_splits=self.n_splits, shuffle=True, random_state=2016).split(X, y))\r\n",
        "\r\n",
        "        S_train = np.zeros((X.shape[0], len(self.base_models)))\r\n",
        "        S_test = np.zeros((T.shape[0], len(self.base_models)))\r\n",
        "        for i, clf in enumerate(self.base_models):\r\n",
        "\r\n",
        "            S_test_i = np.zeros((T.shape[0], self.n_splits))\r\n",
        "\r\n",
        "            for j, (train_idx, test_idx) in enumerate(folds):\r\n",
        "                X_train = X[train_idx]\r\n",
        "                y_train = y[train_idx]\r\n",
        "                X_holdout = X[test_idx]\r\n",
        "                # y_holdout = y[test_idx]\r\n",
        "\r\n",
        "                print (\"Fit %s fold %d\" % (str(clf).split('(')[0], j+1))\r\n",
        "                clf.fit(X_train, y_train)\r\n",
        "                # cross_score = cross_val_score(clf, X_train, y_train, cv=3, scoring='roc_auc')\r\n",
        "                # print(\"    cross_score: %.5f\" % (cross_score.mean()))\r\n",
        "                y_pred = clf.predict_proba(X_holdout)[:,1]                \r\n",
        "\r\n",
        "                S_train[test_idx, i] = y_pred\r\n",
        "                S_test_i[:, j] = clf.predict_proba(T)[:,1]\r\n",
        "            S_test[:, i] = S_test_i.mean(axis=1)\r\n",
        "\r\n",
        "        results = cross_val_score(self.stacker, S_train, y, cv=3, scoring='roc_auc')\r\n",
        "        print(\"Stacker score: %.5f\" % (results.mean()))\r\n",
        "\r\n",
        "        self.stacker.fit(S_train, y)\r\n",
        "        res = self.stacker.predict_proba(S_test)[:,1]\r\n",
        "        return res\r\n",
        "\r\n",
        "# Class 4.2 Parameters\r\n",
        "# LightGBM params\r\n",
        "lgb_params = {}\r\n",
        "lgb_params['learning_rate'] = 0.02\r\n",
        "lgb_params['n_estimators'] = 650\r\n",
        "lgb_params['max_bin'] = 10\r\n",
        "lgb_params['subsample'] = 0.8\r\n",
        "lgb_params['subsample_freq'] = 10\r\n",
        "lgb_params['colsample_bytree'] = 0.8   \r\n",
        "lgb_params['min_child_samples'] = 500\r\n",
        "lgb_params['seed'] = 99\r\n",
        "\r\n",
        "lgb_params2 = {}\r\n",
        "lgb_params2['n_estimators'] = 1090\r\n",
        "lgb_params2['learning_rate'] = 0.02\r\n",
        "lgb_params2['colsample_bytree'] = 0.3   \r\n",
        "lgb_params2['subsample'] = 0.7\r\n",
        "lgb_params2['subsample_freq'] = 2\r\n",
        "lgb_params2['num_leaves'] = 16\r\n",
        "lgb_params2['seed'] = 99\r\n",
        "\r\n",
        "lgb_params3 = {}\r\n",
        "lgb_params3['n_estimators'] = 1100\r\n",
        "lgb_params3['max_depth'] = 4\r\n",
        "lgb_params3['learning_rate'] = 0.02\r\n",
        "lgb_params3['seed'] = 99\r\n",
        "\r\n",
        "\r\n",
        "lgb_model = LGBMClassifier(**lgb_params)\r\n",
        "\r\n",
        "lgb_model2 = LGBMClassifier(**lgb_params2)\r\n",
        "\r\n",
        "lgb_model3 = LGBMClassifier(**lgb_params3)\r\n",
        "\r\n",
        "\r\n",
        "log_model = LogisticRegression()\r\n",
        "\r\n",
        "        \r\n",
        "stack = Ensemble(n_splits=3,\r\n",
        "        stacker = log_model,\r\n",
        "        base_models = (lgb_model, lgb_model2, lgb_model3))        \r\n",
        "        \r\n",
        "y_pred = stack.fit_predict(train, target_train, test)        \r\n",
        "\r\n",
        "\r\n",
        "sub = pd.DataFrame()\r\n",
        "sub['target'] = y_pred\r\n",
        "sub.to_csv('stacked_1.csv', index=False)"
      ],
      "execution_count": null,
      "outputs": [
        {
          "output_type": "stream",
          "text": [
            "Requirement already satisfied: catboost in /usr/local/lib/python2.7/dist-packages (0.24.4)\n",
            "Requirement already satisfied: six in /usr/local/lib/python2.7/dist-packages (from catboost) (1.15.0)\n",
            "Requirement already satisfied: plotly in /usr/local/lib/python2.7/dist-packages (from catboost) (3.6.1)\n",
            "Requirement already satisfied: numpy>=1.16.0 in /usr/local/lib/python2.7/dist-packages (from catboost) (1.16.4)\n",
            "Requirement already satisfied: matplotlib in /usr/local/lib/python2.7/dist-packages (from catboost) (2.2.4)\n",
            "Requirement already satisfied: enum34; python_version < \"3.4\" in /usr/local/lib/python2.7/dist-packages (from catboost) (1.1.6)\n",
            "Requirement already satisfied: pandas>=0.24.0 in /usr/local/lib/python2.7/dist-packages (from catboost) (0.24.2)\n",
            "Requirement already satisfied: scipy in /usr/local/lib/python2.7/dist-packages (from catboost) (1.2.2)\n",
            "Requirement already satisfied: graphviz in /usr/local/lib/python2.7/dist-packages (from catboost) (0.10.1)\n",
            "Requirement already satisfied: decorator>=4.0.6 in /usr/local/lib/python2.7/dist-packages (from plotly->catboost) (4.4.0)\n",
            "Requirement already satisfied: requests in /usr/local/lib/python2.7/dist-packages (from plotly->catboost) (2.23.0)\n",
            "Requirement already satisfied: nbformat>=4.2 in /usr/local/lib/python2.7/dist-packages (from plotly->catboost) (4.4.0)\n",
            "Requirement already satisfied: retrying>=1.3.3 in /usr/local/lib/python2.7/dist-packages (from plotly->catboost) (1.3.3)\n",
            "Requirement already satisfied: pytz in /usr/local/lib/python2.7/dist-packages (from plotly->catboost) (2018.9)\n",
            "Requirement already satisfied: cycler>=0.10 in /usr/local/lib/python2.7/dist-packages (from matplotlib->catboost) (0.10.0)\n",
            "Requirement already satisfied: backports.functools-lru-cache in /usr/local/lib/python2.7/dist-packages (from matplotlib->catboost) (1.5)\n",
            "Requirement already satisfied: subprocess32 in /usr/local/lib/python2.7/dist-packages (from matplotlib->catboost) (3.5.4)\n",
            "Requirement already satisfied: kiwisolver>=1.0.1 in /usr/local/lib/python2.7/dist-packages (from matplotlib->catboost) (1.1.0)\n",
            "Requirement already satisfied: python-dateutil>=2.1 in /usr/local/lib/python2.7/dist-packages (from matplotlib->catboost) (2.5.3)\n",
            "Requirement already satisfied: pyparsing!=2.0.4,!=2.1.2,!=2.1.6,>=2.0.1 in /usr/local/lib/python2.7/dist-packages (from matplotlib->catboost) (2.4.0)\n",
            "Requirement already satisfied: urllib3!=1.25.0,!=1.25.1,<1.26,>=1.21.1 in /usr/local/lib/python2.7/dist-packages (from requests->plotly->catboost) (1.24.3)\n",
            "Requirement already satisfied: chardet<4,>=3.0.2 in /usr/local/lib/python2.7/dist-packages (from requests->plotly->catboost) (3.0.4)\n",
            "Requirement already satisfied: certifi>=2017.4.17 in /usr/local/lib/python2.7/dist-packages (from requests->plotly->catboost) (2019.6.16)\n",
            "Requirement already satisfied: idna<3,>=2.5 in /usr/local/lib/python2.7/dist-packages (from requests->plotly->catboost) (2.8)\n",
            "Requirement already satisfied: traitlets>=4.1 in /usr/local/lib/python2.7/dist-packages (from nbformat>=4.2->plotly->catboost) (4.3.2)\n",
            "Requirement already satisfied: jsonschema!=2.5.0,>=2.4 in /usr/local/lib/python2.7/dist-packages (from nbformat>=4.2->plotly->catboost) (2.6.0)\n",
            "Requirement already satisfied: ipython-genutils in /usr/local/lib/python2.7/dist-packages (from nbformat>=4.2->plotly->catboost) (0.2.0)\n",
            "Requirement already satisfied: jupyter-core in /usr/local/lib/python2.7/dist-packages (from nbformat>=4.2->plotly->catboost) (4.5.0)\n",
            "Requirement already satisfied: setuptools in /usr/local/lib/python2.7/dist-packages (from kiwisolver>=1.0.1->matplotlib->catboost) (44.1.1)\n",
            "Requirement already satisfied: functools32; python_version == \"2.7\" in /usr/local/lib/python2.7/dist-packages (from jsonschema!=2.5.0,>=2.4->nbformat>=4.2->plotly->catboost) (3.2.3.post2)\n",
            "Requirement already satisfied: ipywidgets in /usr/local/lib/python2.7/dist-packages (7.5.0)\n",
            "Requirement already satisfied: ipykernel>=4.5.1 in /usr/local/lib/python2.7/dist-packages (from ipywidgets) (4.10.1)\n",
            "Requirement already satisfied: widgetsnbextension~=3.5.0 in /usr/local/lib/python2.7/dist-packages (from ipywidgets) (3.5.0)\n",
            "Requirement already satisfied: ipython<6.0.0,>=4.0.0; python_version < \"3.3\" in /usr/local/lib/python2.7/dist-packages (from ipywidgets) (5.5.0)\n",
            "Requirement already satisfied: nbformat>=4.2.0 in /usr/local/lib/python2.7/dist-packages (from ipywidgets) (4.4.0)\n",
            "Requirement already satisfied: traitlets>=4.3.1 in /usr/local/lib/python2.7/dist-packages (from ipywidgets) (4.3.2)\n",
            "Requirement already satisfied: jupyter-client in /usr/local/lib/python2.7/dist-packages (from ipykernel>=4.5.1->ipywidgets) (5.3.1)\n",
            "Requirement already satisfied: tornado>=4.0 in /usr/local/lib/python2.7/dist-packages (from ipykernel>=4.5.1->ipywidgets) (4.5.3)\n",
            "Requirement already satisfied: notebook>=4.4.1 in /usr/local/lib/python2.7/dist-packages (from widgetsnbextension~=3.5.0->ipywidgets) (5.2.2)\n",
            "Requirement already satisfied: simplegeneric>0.8 in /usr/local/lib/python2.7/dist-packages (from ipython<6.0.0,>=4.0.0; python_version < \"3.3\"->ipywidgets) (0.8.1)\n",
            "Requirement already satisfied: pickleshare in /usr/local/lib/python2.7/dist-packages (from ipython<6.0.0,>=4.0.0; python_version < \"3.3\"->ipywidgets) (0.7.5)\n",
            "Requirement already satisfied: backports.shutil-get-terminal-size; python_version == \"2.7\" in /usr/local/lib/python2.7/dist-packages (from ipython<6.0.0,>=4.0.0; python_version < \"3.3\"->ipywidgets) (1.0.0)\n",
            "Requirement already satisfied: pathlib2; python_version == \"2.7\" or python_version == \"3.3\" in /usr/local/lib/python2.7/dist-packages (from ipython<6.0.0,>=4.0.0; python_version < \"3.3\"->ipywidgets) (2.3.4)\n",
            "Requirement already satisfied: pexpect; sys_platform != \"win32\" in /usr/local/lib/python2.7/dist-packages (from ipython<6.0.0,>=4.0.0; python_version < \"3.3\"->ipywidgets) (4.7.0)\n",
            "Requirement already satisfied: pygments in /usr/local/lib/python2.7/dist-packages (from ipython<6.0.0,>=4.0.0; python_version < \"3.3\"->ipywidgets) (2.1.3)\n",
            "Requirement already satisfied: decorator in /usr/local/lib/python2.7/dist-packages (from ipython<6.0.0,>=4.0.0; python_version < \"3.3\"->ipywidgets) (4.4.0)\n",
            "Requirement already satisfied: prompt-toolkit<2.0.0,>=1.0.4 in /usr/local/lib/python2.7/dist-packages (from ipython<6.0.0,>=4.0.0; python_version < \"3.3\"->ipywidgets) (1.0.16)\n",
            "Requirement already satisfied: setuptools>=18.5 in /usr/local/lib/python2.7/dist-packages (from ipython<6.0.0,>=4.0.0; python_version < \"3.3\"->ipywidgets) (44.1.1)\n",
            "Requirement already satisfied: jupyter-core in /usr/local/lib/python2.7/dist-packages (from nbformat>=4.2.0->ipywidgets) (4.5.0)\n",
            "Requirement already satisfied: jsonschema!=2.5.0,>=2.4 in /usr/local/lib/python2.7/dist-packages (from nbformat>=4.2.0->ipywidgets) (2.6.0)\n",
            "Requirement already satisfied: ipython-genutils in /usr/local/lib/python2.7/dist-packages (from nbformat>=4.2.0->ipywidgets) (0.2.0)\n",
            "Requirement already satisfied: six in /usr/local/lib/python2.7/dist-packages (from traitlets>=4.3.1->ipywidgets) (1.15.0)\n",
            "Requirement already satisfied: enum34; python_version == \"2.7\" in /usr/local/lib/python2.7/dist-packages (from traitlets>=4.3.1->ipywidgets) (1.1.6)\n",
            "Requirement already satisfied: pyzmq>=13 in /usr/local/lib/python2.7/dist-packages (from jupyter-client->ipykernel>=4.5.1->ipywidgets) (19.0.0)\n",
            "Requirement already satisfied: python-dateutil>=2.1 in /usr/local/lib/python2.7/dist-packages (from jupyter-client->ipykernel>=4.5.1->ipywidgets) (2.5.3)\n",
            "Requirement already satisfied: certifi in /usr/local/lib/python2.7/dist-packages (from tornado>=4.0->ipykernel>=4.5.1->ipywidgets) (2019.6.16)\n",
            "Requirement already satisfied: singledispatch in /usr/local/lib/python2.7/dist-packages (from tornado>=4.0->ipykernel>=4.5.1->ipywidgets) (3.4.0.3)\n",
            "Requirement already satisfied: backports-abc>=0.4 in /usr/local/lib/python2.7/dist-packages (from tornado>=4.0->ipykernel>=4.5.1->ipywidgets) (0.5)\n",
            "Requirement already satisfied: terminado>=0.3.3; sys_platform != \"win32\" in /usr/local/lib/python2.7/dist-packages (from notebook>=4.4.1->widgetsnbextension~=3.5.0->ipywidgets) (0.8.2)\n",
            "Requirement already satisfied: jinja2 in /usr/local/lib/python2.7/dist-packages (from notebook>=4.4.1->widgetsnbextension~=3.5.0->ipywidgets) (2.10.1)\n",
            "Requirement already satisfied: nbconvert in /usr/local/lib/python2.7/dist-packages (from notebook>=4.4.1->widgetsnbextension~=3.5.0->ipywidgets) (5.5.0)\n",
            "Requirement already satisfied: scandir; python_version < \"3.5\" in /usr/local/lib/python2.7/dist-packages (from pathlib2; python_version == \"2.7\" or python_version == \"3.3\"->ipython<6.0.0,>=4.0.0; python_version < \"3.3\"->ipywidgets) (1.10.0)\n",
            "Requirement already satisfied: ptyprocess>=0.5 in /usr/local/lib/python2.7/dist-packages (from pexpect; sys_platform != \"win32\"->ipython<6.0.0,>=4.0.0; python_version < \"3.3\"->ipywidgets) (0.6.0)\n",
            "Requirement already satisfied: wcwidth in /usr/local/lib/python2.7/dist-packages (from prompt-toolkit<2.0.0,>=1.0.4->ipython<6.0.0,>=4.0.0; python_version < \"3.3\"->ipywidgets) (0.1.7)\n",
            "Requirement already satisfied: functools32; python_version == \"2.7\" in /usr/local/lib/python2.7/dist-packages (from jsonschema!=2.5.0,>=2.4->nbformat>=4.2.0->ipywidgets) (3.2.3.post2)\n",
            "Requirement already satisfied: MarkupSafe>=0.23 in /usr/local/lib/python2.7/dist-packages (from jinja2->notebook>=4.4.1->widgetsnbextension~=3.5.0->ipywidgets) (1.1.1)\n",
            "Requirement already satisfied: entrypoints>=0.2.2 in /usr/local/lib/python2.7/dist-packages (from nbconvert->notebook>=4.4.1->widgetsnbextension~=3.5.0->ipywidgets) (0.3)\n",
            "Requirement already satisfied: defusedxml in /usr/local/lib/python2.7/dist-packages (from nbconvert->notebook>=4.4.1->widgetsnbextension~=3.5.0->ipywidgets) (0.6.0)\n",
            "Requirement already satisfied: testpath in /usr/local/lib/python2.7/dist-packages (from nbconvert->notebook>=4.4.1->widgetsnbextension~=3.5.0->ipywidgets) (0.4.2)\n",
            "Requirement already satisfied: mistune>=0.8.1 in /usr/local/lib/python2.7/dist-packages (from nbconvert->notebook>=4.4.1->widgetsnbextension~=3.5.0->ipywidgets) (0.8.4)\n",
            "Requirement already satisfied: bleach in /usr/local/lib/python2.7/dist-packages (from nbconvert->notebook>=4.4.1->widgetsnbextension~=3.5.0->ipywidgets) (3.1.0)\n",
            "Requirement already satisfied: pandocfilters>=1.4.1 in /usr/local/lib/python2.7/dist-packages (from nbconvert->notebook>=4.4.1->widgetsnbextension~=3.5.0->ipywidgets) (1.4.2)\n",
            "Requirement already satisfied: configparser>=3.5; python_version == \"2.7\" in /usr/local/lib/python2.7/dist-packages (from entrypoints>=0.2.2->nbconvert->notebook>=4.4.1->widgetsnbextension~=3.5.0->ipywidgets) (3.7.4)\n",
            "Requirement already satisfied: webencodings in /usr/local/lib/python2.7/dist-packages (from bleach->nbconvert->notebook>=4.4.1->widgetsnbextension~=3.5.0->ipywidgets) (0.5.1)\n",
            "Enabling notebook extension jupyter-js-widgets/extension...\n",
            "      - Validating: \u001b[32mOK\u001b[0m\n",
            "Created temporary directory: /tmp/pip-ephem-wheel-cache-KS6hmN\n",
            "Created temporary directory: /tmp/pip-req-tracker-lFNQc8\n",
            "Created requirements tracker '/tmp/pip-req-tracker-lFNQc8'\n",
            "Created temporary directory: /tmp/pip-install-apYLUO\n",
            "Requirement already satisfied: rgf_python in /usr/local/lib/python2.7/dist-packages (3.9.0)\n",
            "Requirement already satisfied: six in /usr/local/lib/python2.7/dist-packages (from rgf_python) (1.15.0)\n",
            "Requirement already satisfied: scikit-learn>=0.18 in /usr/local/lib/python2.7/dist-packages (from rgf_python) (0.20.3)\n",
            "Requirement already satisfied: joblib in /usr/local/lib/python2.7/dist-packages (from rgf_python) (0.12.5)\n",
            "Requirement already satisfied: scipy>=0.13.3 in /usr/local/lib/python2.7/dist-packages (from scikit-learn>=0.18->rgf_python) (1.2.2)\n",
            "Requirement already satisfied: numpy>=1.8.2 in /usr/local/lib/python2.7/dist-packages (from scikit-learn>=0.18->rgf_python) (1.16.4)\n",
            "Cleaning up...\n",
            "Removed build tracker '/tmp/pip-req-tracker-lFNQc8'\n",
            "--2021-02-04 21:16:43--  https://archive.ics.uci.edu/ml/machine-learning-databases/adult/adult.data\n",
            "Resolving archive.ics.uci.edu (archive.ics.uci.edu)... 128.195.10.252\n",
            "Connecting to archive.ics.uci.edu (archive.ics.uci.edu)|128.195.10.252|:443... connected.\n",
            "HTTP request sent, awaiting response... 200 OK\n",
            "Length: 3974305 (3.8M) [application/x-httpd-php]\n",
            "Saving to: ‘adult.data.7’\n",
            "\n",
            "adult.data.7        100%[===================>]   3.79M  8.17MB/s    in 0.5s    \n",
            "\n",
            "2021-02-04 21:16:44 (8.17 MB/s) - ‘adult.data.7’ saved [3974305/3974305]\n",
            "\n",
            "((22792, 40), (9769, 40))\n",
            "Fit LGBMClassifier fold 1\n",
            "Fit LGBMClassifier fold 2\n",
            "Fit LGBMClassifier fold 3\n",
            "Fit LGBMClassifier fold 1\n",
            "Fit LGBMClassifier fold 2\n",
            "Fit LGBMClassifier fold 3\n",
            "Fit LGBMClassifier fold 1\n",
            "Fit LGBMClassifier fold 2\n",
            "Fit LGBMClassifier fold 3\n",
            "Stacker score: 0.49848\n"
          ],
          "name": "stdout"
        }
      ]
    },
    {
      "cell_type": "code",
      "metadata": {
        "id": "J0c47VV__CEK"
      },
      "source": [
        ""
      ],
      "execution_count": null,
      "outputs": []
    },
    {
      "cell_type": "code",
      "metadata": {
        "id": "jHDe-R5h_CR5"
      },
      "source": [
        ""
      ],
      "execution_count": null,
      "outputs": []
    },
    {
      "cell_type": "code",
      "metadata": {
        "id": "Xi94q7Ej_GXu"
      },
      "source": [
        "######################################################################################################################\r\n",
        "######################################################################################################################\r\n",
        "##2) Prediction 2 - Advanced Program \r\n",
        "\r\n",
        "#2.2) Tensorflow linear classifier"
      ],
      "execution_count": 1,
      "outputs": []
    },
    {
      "cell_type": "code",
      "metadata": {
        "colab": {
          "base_uri": "https://localhost:8080/",
          "height": 1000
        },
        "id": "yfrnu2GWgMrg",
        "outputId": "40086b53-25df-436e-b462-56000fbfe355"
      },
      "source": [
        "import math\r\n",
        "\r\n",
        "from IPython import display\r\n",
        "from matplotlib import cm\r\n",
        "from matplotlib import gridspec\r\n",
        "from matplotlib import pyplot as plt\r\n",
        "import numpy as np\r\n",
        "import pandas as pd\r\n",
        "from mpl_toolkits.mplot3d import Axes3D\r\n",
        "from sklearn import metrics\r\n",
        "\r\n",
        "!pip install tensorflow\r\n",
        "!pip install tensorflow_gpu\r\n",
        "!pip install \"tensorflow==1.14.0\"\r\n",
        "!pip install \"tensorflow_gpu==1.14.0\"\r\n",
        "import tensorflow as tf\r\n",
        "from tensorflow.contrib.learn.python.learn import learn_io, estimator\r\n",
        "\r\n",
        "# Increasing the amount of logging when there is an error\r\n",
        "tf.logging.set_verbosity(tf.logging.ERROR)\r\n",
        "\r\n",
        "# Setting the output display to have two digits for decimal places, for display\r\n",
        "# readability only and limit it to printing 10 rows.\r\n",
        "pd.options.display.float_format = '{:.2f}'.format\r\n",
        "pd.options.display.max_rows = 20\r\n",
        "\r\n",
        "import tempfile\r\n",
        "import urllib\r\n",
        "train_file = tempfile.NamedTemporaryFile()\r\n",
        "urllib.urlretrieve(\"https://archive.ics.uci.edu/ml/machine-learning-databases/adult/adult.data\", train_file.name)\r\n",
        "\r\n",
        "COLUMNS = [\"age\", \"workclass\", \"sample_weight\", \"education\", \"education_num\",\r\n",
        "           \"marital_status\", \"occupation\", \"relationship\", \"clothing\", \"gender\",\r\n",
        "           \"capital_gain\", \"capital_loss\", \"hours_per_week\", \"native_country\",\r\n",
        "           \"income_bracket\"]\r\n",
        "census_df = pd.read_csv(train_file, names=COLUMNS, skipinitialspace=True)\r\n",
        "# Presenting first 5 rows of the table.\r\n",
        "census_df.head(5)\r\n",
        "\r\n",
        "\r\n",
        "CATEGORICAL_COLUMNS = [\"workclass\", \"education\", \"marital_status\", \"occupation\",\r\n",
        "                       \"relationship\", \"clothing\", \"gender\", \"native_country\"]\r\n",
        "NUMERICAL_COLUMNS = [\"age\", \"education_num\", \"capital_gain\", \"capital_loss\",\r\n",
        "                      \"hours_per_week\"]\r\n",
        "LABEL = \"income_over_50k\"\r\n",
        "\r\n",
        "def input_fn(dataframe):\r\n",
        "  \"\"\"Constructs a dictionary for the feature columns.\r\n",
        "\r\n",
        "  Args:\r\n",
        "    dataframe: The Pandas DataFrame to use for the input.\r\n",
        "  Returns:\r\n",
        "    The feature columns and the associated labels for the provided input.\r\n",
        "  \"\"\"\r\n",
        "  # Creating a dictionary mapping each numerical feature column name (k) to\r\n",
        "  # the values of that column stored in a constant Tensor.\r\n",
        "  numerical_cols = {k: tf.constant(dataframe[k].values) \r\n",
        "                    for k in NUMERICAL_COLUMNS}\r\n",
        "  # Creating a dictionary mapping each categorical feature column name (k)\r\n",
        "  # to the values of that column stored in a tf.SparseTensor.\r\n",
        "  categorical_cols = {k: tf.SparseTensor(\r\n",
        "      indices=[[i, 0] for i in range(dataframe[k].size)],\r\n",
        "      values=dataframe[k].values,\r\n",
        "      dense_shape=[dataframe[k].size, 1])\r\n",
        "                      for k in CATEGORICAL_COLUMNS}\r\n",
        "  # Merging the two dictionaries into one.\r\n",
        "  feature_cols = dict(numerical_cols.items() + categorical_cols.items())\r\n",
        "  # Converting the label column into a constant Tensor.\r\n",
        "  label = tf.constant(dataframe[LABEL].values)\r\n",
        "  # Returning the feature columns and the label.\r\n",
        "  return feature_cols, label\r\n",
        "\r\n",
        "def train_input_fn():\r\n",
        "  return input_fn(training_examples)\r\n",
        "\r\n",
        "def eval_input_fn():\r\n",
        "  return input_fn(validation_examples)\r\n",
        "\r\n",
        "def test_input_fn():\r\n",
        "  return input_fn(test_examples)\r\n",
        "\r\n",
        "\r\n",
        "# Linearly rescaling to the range [0, 1]\r\n",
        "def linear_scale(series):\r\n",
        "  min_val = series.min()\r\n",
        "  max_val = series.max()\r\n",
        "  scale = 1.0 * (max_val - min_val)\r\n",
        "  return series.apply(lambda x:((x - min_val) / scale))\r\n",
        "\r\n",
        "def prepare_features(dataframe):\r\n",
        "  \"\"\"Prepares the features for provided dataset.\r\n",
        "\r\n",
        "  Args:\r\n",
        "    dataframe: A Pandas DataFrame expected to contain the data.\r\n",
        "  Returns:\r\n",
        "    A new DataFrame that contains the features to be used for the model.\r\n",
        "  \"\"\"\r\n",
        "  processed_features = dataframe.copy()\r\n",
        "  for feature in NUMERICAL_COLUMNS:\r\n",
        "    processed_features[feature] = linear_scale(dataframe[feature])\r\n",
        "    \r\n",
        "  # Converting the output target to 0 (for <=50k) and 1 (> 50k)\r\n",
        "  processed_features[LABEL] = dataframe[\"income_bracket\"].apply(\r\n",
        "      lambda x: \">50K\" in x).astype(int)\r\n",
        "  \r\n",
        "  return processed_features\r\n",
        "\r\n",
        "\r\n",
        "census_df = census_df.reindex(np.random.permutation(census_df.index))\r\n",
        "training_examples = prepare_features(census_df.head(12281))\r\n",
        "validation_examples = prepare_features(census_df.tail(4000))\r\n",
        "\r\n",
        "test_file = tempfile.NamedTemporaryFile()\r\n",
        "urllib.urlretrieve(\"https://archive.ics.uci.edu/ml/machine-learning-databases/adult/adult.test\", test_file.name)\r\n",
        "\r\n",
        "census_df_test = pd.read_csv(test_file, names=COLUMNS, skipinitialspace=True, skiprows=1)\r\n",
        "test_examples = prepare_features(census_df_test)\r\n",
        "\r\n",
        "\r\n",
        "def make_roc_curve(predictions, targets):\r\n",
        "  \"\"\" Plots an ROC curve for the provided predictions and targets.\r\n",
        "\r\n",
        "  Args:\r\n",
        "    predictions: the probability that the example has label 1.\r\n",
        "    targets: a list of the target values being predicted that must be the\r\n",
        "             same length as predictions.\r\n",
        "  \"\"\"  \r\n",
        "  false_positive_rate, true_positive_rate, thresholds = metrics.roc_curve(\r\n",
        "      targets, predictions)\r\n",
        "  \r\n",
        "  plt.ylabel(\"true positive rate\")\r\n",
        "  plt.xlabel(\"false positive rate\")\r\n",
        "  plt.plot(false_positive_rate, true_positive_rate)\r\n",
        "\r\n",
        "  \r\n",
        "def plot_learning_curve(training_losses, validation_losses):\r\n",
        "  \"\"\" Plot the learning curve.\r\n",
        "  \r\n",
        "  Args:\r\n",
        "    training_loses: a list of training losses to plot.\r\n",
        "    validation_losses: a list of validation losses to plot.\r\n",
        "  \"\"\"        \r\n",
        "  plt.ylabel('Loss')\r\n",
        "  plt.xlabel('Training Steps')\r\n",
        "  plt.plot(training_losses, label=\"training\")\r\n",
        "  plt.plot(validation_losses, label=\"validation\")\r\n",
        "  plt.legend(loc=1)\r\n",
        "\r\n",
        "\r\n",
        "def compute_loss(model, input_fn, targets):\r\n",
        "  \"\"\" Computes the log loss for training a linear classifier.\r\n",
        "  \r\n",
        "  Args:\r\n",
        "    model: the trained model to use for making the predictions.\r\n",
        "    input_fn: the input_fn to use to make the predicitons.\r\n",
        "    targets: a list of the target values being predicted that must be the\r\n",
        "             same length as predictions.\r\n",
        "    \r\n",
        "  Returns:\r\n",
        "    The log loss for the provided predictions and targets.\r\n",
        "  \"\"\"      \r\n",
        "  \r\n",
        "  predictions = np.array(list(model.predict_proba(input_fn=input_fn)))\r\n",
        "  return metrics.log_loss(targets, predictions[:, 1])\r\n",
        "\r\n",
        "\r\n",
        "def construct_feature_columns():\r\n",
        "  \"\"\"Construct TensorFlow Feature Columns for features\r\n",
        "  \r\n",
        "  Returns:\r\n",
        "    A set of feature columns.\r\n",
        "  \"\"\"\r\n",
        "  \r\n",
        "  # Sample creating a categorical column with known values.\r\n",
        "  gender = tf.contrib.layers.sparse_column_with_keys(\r\n",
        "    column_name=\"gender\", keys=[\"Female\", \"Male\"])\r\n",
        "  \r\n",
        "  # Sample creating a categorical columns with a hash bucket.    \r\n",
        "  education = tf.contrib.layers.sparse_column_with_hash_bucket(\r\n",
        "      \"education\", hash_bucket_size=50)\r\n",
        "  \r\n",
        "  # Sample creating a real-valued column for numeric data.\r\n",
        "  age = tf.contrib.layers.real_valued_column(\"age\") \r\n",
        "\r\n",
        "  # Returning the set of all feature columns generated.\r\n",
        "  feature_columns=[gender, education, age]\r\n",
        " \r\n",
        "  return feature_columns\r\n",
        "\r\n",
        "\r\n",
        "def define_linear_classifier(learning_rate):\r\n",
        "  \"\"\" Defines a linear classifer to predict the target.\r\n",
        "  \r\n",
        "  Args:\r\n",
        "    learning_rate: A `float`, the learning rate.\r\n",
        "    \r\n",
        "  Returns:\r\n",
        "    A linear classifier created with the given parameters.\r\n",
        "  \"\"\"\r\n",
        "  linear_classifier = tf.contrib.learn.LinearClassifier(\r\n",
        "    feature_columns=construct_feature_columns(),\r\n",
        "    optimizer=tf.train.GradientDescentOptimizer(learning_rate=learning_rate),\r\n",
        "    gradient_clip_norm=5.0\r\n",
        "  )  \r\n",
        "  return linear_classifier\r\n",
        "\r\n",
        "\r\n",
        "def train_model(model, steps):\r\n",
        "  \"\"\"Trains a linear classifier.\r\n",
        "  \r\n",
        "  Args:\r\n",
        "    model: The model to train.\r\n",
        "    steps: A non-zero `int`, the total number of training steps.\r\n",
        "    \r\n",
        "  Returns:\r\n",
        "    The trained model.\r\n",
        "  \"\"\"\r\n",
        "  # In order to see how the model evolves as it is trained, the steps\r\n",
        "  # are divided into periods and presents the model after each period.\r\n",
        "  periods = 10\r\n",
        "  steps_per_period = steps / periods\r\n",
        "  \r\n",
        "  # Training the model, but doing so inside a loop so that you can periodically assess\r\n",
        "  # loss metrics.  Storing the training and validation losses so you can\r\n",
        "  # generate a learning curve.\r\n",
        "  print \"Training model...\"\r\n",
        "  training_losses = []\r\n",
        "  validation_losses = []\r\n",
        "\r\n",
        "  for period in range (0, periods):\r\n",
        "    # Calling fit to train the model for steps_per_period steps.\r\n",
        "    model.fit(input_fn=train_input_fn, steps=steps_per_period)\r\n",
        "    \r\n",
        "    # Computing the loss between the predictions and the correct labels, appending\r\n",
        "    # the training and validation loss to the list of losses used to generate\r\n",
        "    # the learning curve after training is complete and printing the current\r\n",
        "    # training loss.\r\n",
        "    training_loss = compute_loss(model, train_input_fn,\r\n",
        "                                 training_examples[LABEL])\r\n",
        "    validation_loss = compute_loss(model, eval_input_fn,\r\n",
        "                                   validation_examples[LABEL])\r\n",
        "    training_losses.append(training_loss) \r\n",
        "    validation_losses.append(validation_loss) \r\n",
        "    print \"  Training loss after period %02d : %0.3f\" % (period, training_loss)\r\n",
        "      \r\n",
        "  # Now that training is done, printing the final training and validation losses.  \r\n",
        "  print \"Final Training Loss: %0.3f\" % training_loss\r\n",
        "  print \"Final Validation Loss: %0.3f\" % validation_loss \r\n",
        "  \r\n",
        "  # Generating a figure with the learning curve on the left and an ROC curve on\r\n",
        "  # the right.\r\n",
        "  plt.figure(figsize=(10, 5))\r\n",
        "  plt.subplot(1, 2, 1)\r\n",
        "  plt.title(\"Learning Curve (Loss vs time)\")\r\n",
        "  plot_learning_curve(training_losses, validation_losses)\r\n",
        "  \r\n",
        "  plt.subplot(1, 2, 2)\r\n",
        "  plt.tight_layout(pad=1.1, w_pad=3.0, h_pad=3.0) \r\n",
        "  plt.title(\"ROC Curve on Validation Data\")\r\n",
        "  validation_probabilities = np.array(list(model.predict_proba(\r\n",
        "    input_fn=eval_input_fn)))\r\n",
        "  # ROC curve uses the probability that the label is 1.\r\n",
        "  make_roc_curve(validation_probabilities[:, 1], validation_examples[LABEL])\r\n",
        "   \r\n",
        "  return model\r\n",
        "\r\n",
        "\r\n",
        "LEARNING_RATE = 0.1\r\n",
        "STEPS = 250\r\n",
        "\r\n",
        "linear_classifier = define_linear_classifier(learning_rate = LEARNING_RATE)\r\n",
        "linear_classifier = train_model(linear_classifier, steps=STEPS)\r\n",
        "\r\n",
        "\r\n",
        "evaluation_metrics = linear_classifier.evaluate(\r\n",
        " input_fn=eval_input_fn, steps=1)\r\n",
        "\r\n",
        "print \"AUC on the validation set: %0.2f\" % evaluation_metrics['auc']\r\n",
        "print \"Accuracy on the validation set: %0.2f\" % evaluation_metrics['accuracy']\r\n",
        "print \"Loss on the validation set: %0.2f\" % evaluation_metrics['loss']\r\n",
        "\r\n",
        "\r\n",
        "def construct_feature_columns():\r\n",
        "  \"\"\"Construct TensorFlow Feature Columns for features\r\n",
        "  \r\n",
        "  Returns:\r\n",
        "    A set of feature columns.\r\n",
        "  \"\"\"\r\n",
        "  \r\n",
        "  # Sample creating a categorical column with known values.\r\n",
        "  gender = tf.contrib.layers.sparse_column_with_keys(\r\n",
        "    column_name=\"gender\", keys=[\"Female\", \"Male\"])\r\n",
        "  \r\n",
        "  # Sample creating a categorical columns with a hash bucket.    \r\n",
        "  education = tf.contrib.layers.sparse_column_with_hash_bucket(\r\n",
        "      \"education\", hash_bucket_size=50)\r\n",
        "  \r\n",
        "  # Sample creating a real-valued column that can be used for numerical data.\r\n",
        "  age = tf.contrib.layers.real_valued_column(\"age\") \r\n",
        "\r\n",
        "  # Returning the set of all feature columns generated.\r\n",
        "  feature_columns=[gender, education, age]\r\n",
        " \r\n",
        "  return feature_columns\r\n",
        "\r\n",
        "LEARNING_RATE = 0.1\r\n",
        "STEPS = 100\r\n",
        "\r\n",
        "linear_classifier = define_linear_classifier(learning_rate = LEARNING_RATE)\r\n",
        "linear_classifier = train_model(linear_classifier, steps=STEPS)\r\n",
        "\r\n",
        "\r\n",
        "evaluation_metrics = linear_classifier.evaluate(\r\n",
        " input_fn=eval_input_fn, steps=1)\r\n",
        "\r\n",
        "print \"AUC on the validation set: %0.2f\" % evaluation_metrics['auc']\r\n",
        "print \"Accuracy on the validation set: %0.2f\" % evaluation_metrics['accuracy']\r\n",
        "print \"Loss on the validation set: %0.2f\" % evaluation_metrics['loss']"
      ],
      "execution_count": null,
      "outputs": [
        {
          "output_type": "stream",
          "text": [
            "Requirement already satisfied: tensorflow in /usr/local/lib/python2.7/dist-packages (1.14.0)\n",
            "Requirement already satisfied: grpcio>=1.8.6 in /usr/local/lib/python2.7/dist-packages (from tensorflow) (1.15.0)\n",
            "Requirement already satisfied: mock>=2.0.0 in /usr/local/lib/python2.7/dist-packages (from tensorflow) (2.0.0)\n",
            "Requirement already satisfied: keras-applications>=1.0.6 in /usr/local/lib/python2.7/dist-packages (from tensorflow) (1.0.8)\n",
            "Requirement already satisfied: wrapt>=1.11.1 in /usr/local/lib/python2.7/dist-packages (from tensorflow) (1.11.2)\n",
            "Requirement already satisfied: protobuf>=3.6.1 in /usr/local/lib/python2.7/dist-packages (from tensorflow) (3.8.0)\n",
            "Requirement already satisfied: keras-preprocessing>=1.0.5 in /usr/local/lib/python2.7/dist-packages (from tensorflow) (1.1.0)\n",
            "Requirement already satisfied: gast>=0.2.0 in /usr/local/lib/python2.7/dist-packages (from tensorflow) (0.2.2)\n",
            "Requirement already satisfied: wheel in /usr/local/lib/python2.7/dist-packages (from tensorflow) (0.36.2)\n",
            "Requirement already satisfied: tensorboard<1.15.0,>=1.14.0 in /usr/local/lib/python2.7/dist-packages (from tensorflow) (1.14.0)\n",
            "Requirement already satisfied: numpy<2.0,>=1.14.5 in /usr/local/lib/python2.7/dist-packages (from tensorflow) (1.16.4)\n",
            "Requirement already satisfied: termcolor>=1.1.0 in /usr/local/lib/python2.7/dist-packages (from tensorflow) (1.1.0)\n",
            "Requirement already satisfied: six>=1.10.0 in /usr/local/lib/python2.7/dist-packages (from tensorflow) (1.15.0)\n",
            "Requirement already satisfied: absl-py>=0.7.0 in /usr/local/lib/python2.7/dist-packages (from tensorflow) (0.7.1)\n",
            "Requirement already satisfied: enum34>=1.1.6 in /usr/local/lib/python2.7/dist-packages (from tensorflow) (1.1.6)\n",
            "Requirement already satisfied: tensorflow-estimator<1.15.0rc0,>=1.14.0rc0 in /usr/local/lib/python2.7/dist-packages (from tensorflow) (1.14.0)\n",
            "Requirement already satisfied: google-pasta>=0.1.6 in /usr/local/lib/python2.7/dist-packages (from tensorflow) (0.1.7)\n",
            "Requirement already satisfied: backports.weakref>=1.0rc1 in /usr/local/lib/python2.7/dist-packages (from tensorflow) (1.0.post1)\n",
            "Requirement already satisfied: astor>=0.6.0 in /usr/local/lib/python2.7/dist-packages (from tensorflow) (0.8.1)\n",
            "Requirement already satisfied: futures>=2.2.0 in /usr/local/lib/python2.7/dist-packages (from grpcio>=1.8.6->tensorflow) (3.2.0)\n",
            "Requirement already satisfied: funcsigs>=1; python_version < \"3.3\" in /usr/local/lib/python2.7/dist-packages (from mock>=2.0.0->tensorflow) (1.0.2)\n",
            "Requirement already satisfied: pbr>=0.11 in /usr/local/lib/python2.7/dist-packages (from mock>=2.0.0->tensorflow) (5.4.0)\n",
            "Requirement already satisfied: h5py in /usr/local/lib/python2.7/dist-packages (from keras-applications>=1.0.6->tensorflow) (2.8.0)\n",
            "Requirement already satisfied: setuptools in /usr/local/lib/python2.7/dist-packages (from protobuf>=3.6.1->tensorflow) (44.1.1)\n",
            "Requirement already satisfied: werkzeug>=0.11.15 in /usr/local/lib/python2.7/dist-packages (from tensorboard<1.15.0,>=1.14.0->tensorflow) (0.15.5)\n",
            "Requirement already satisfied: markdown>=2.6.8 in /usr/local/lib/python2.7/dist-packages (from tensorboard<1.15.0,>=1.14.0->tensorflow) (3.1.1)\n",
            "Requirement already satisfied: tensorflow_gpu in /usr/local/lib/python2.7/dist-packages (1.14.0)\n",
            "Requirement already satisfied: grpcio>=1.8.6 in /usr/local/lib/python2.7/dist-packages (from tensorflow_gpu) (1.15.0)\n",
            "Requirement already satisfied: mock>=2.0.0 in /usr/local/lib/python2.7/dist-packages (from tensorflow_gpu) (2.0.0)\n",
            "Requirement already satisfied: keras-applications>=1.0.6 in /usr/local/lib/python2.7/dist-packages (from tensorflow_gpu) (1.0.8)\n",
            "Requirement already satisfied: tensorboard<1.15.0,>=1.14.0 in /usr/local/lib/python2.7/dist-packages (from tensorflow_gpu) (1.14.0)\n",
            "Requirement already satisfied: wrapt>=1.11.1 in /usr/local/lib/python2.7/dist-packages (from tensorflow_gpu) (1.11.2)\n",
            "Requirement already satisfied: protobuf>=3.6.1 in /usr/local/lib/python2.7/dist-packages (from tensorflow_gpu) (3.8.0)\n",
            "Requirement already satisfied: keras-preprocessing>=1.0.5 in /usr/local/lib/python2.7/dist-packages (from tensorflow_gpu) (1.1.0)\n",
            "Requirement already satisfied: gast>=0.2.0 in /usr/local/lib/python2.7/dist-packages (from tensorflow_gpu) (0.2.2)\n",
            "Requirement already satisfied: wheel in /usr/local/lib/python2.7/dist-packages (from tensorflow_gpu) (0.36.2)\n",
            "Requirement already satisfied: numpy<2.0,>=1.14.5 in /usr/local/lib/python2.7/dist-packages (from tensorflow_gpu) (1.16.4)\n",
            "Requirement already satisfied: enum34>=1.1.6 in /usr/local/lib/python2.7/dist-packages (from tensorflow_gpu) (1.1.6)\n",
            "Requirement already satisfied: termcolor>=1.1.0 in /usr/local/lib/python2.7/dist-packages (from tensorflow_gpu) (1.1.0)\n",
            "Requirement already satisfied: six>=1.10.0 in /usr/local/lib/python2.7/dist-packages (from tensorflow_gpu) (1.15.0)\n",
            "Requirement already satisfied: absl-py>=0.7.0 in /usr/local/lib/python2.7/dist-packages (from tensorflow_gpu) (0.7.1)\n",
            "Requirement already satisfied: tensorflow-estimator<1.15.0rc0,>=1.14.0rc0 in /usr/local/lib/python2.7/dist-packages (from tensorflow_gpu) (1.14.0)\n",
            "Requirement already satisfied: google-pasta>=0.1.6 in /usr/local/lib/python2.7/dist-packages (from tensorflow_gpu) (0.1.7)\n",
            "Requirement already satisfied: backports.weakref>=1.0rc1 in /usr/local/lib/python2.7/dist-packages (from tensorflow_gpu) (1.0.post1)\n",
            "Requirement already satisfied: astor>=0.6.0 in /usr/local/lib/python2.7/dist-packages (from tensorflow_gpu) (0.8.1)\n",
            "Requirement already satisfied: futures>=2.2.0 in /usr/local/lib/python2.7/dist-packages (from grpcio>=1.8.6->tensorflow_gpu) (3.2.0)\n",
            "Requirement already satisfied: funcsigs>=1; python_version < \"3.3\" in /usr/local/lib/python2.7/dist-packages (from mock>=2.0.0->tensorflow_gpu) (1.0.2)\n",
            "Requirement already satisfied: pbr>=0.11 in /usr/local/lib/python2.7/dist-packages (from mock>=2.0.0->tensorflow_gpu) (5.4.0)\n",
            "Requirement already satisfied: h5py in /usr/local/lib/python2.7/dist-packages (from keras-applications>=1.0.6->tensorflow_gpu) (2.8.0)\n",
            "Requirement already satisfied: setuptools>=41.0.0 in /usr/local/lib/python2.7/dist-packages (from tensorboard<1.15.0,>=1.14.0->tensorflow_gpu) (44.1.1)\n",
            "Requirement already satisfied: werkzeug>=0.11.15 in /usr/local/lib/python2.7/dist-packages (from tensorboard<1.15.0,>=1.14.0->tensorflow_gpu) (0.15.5)\n",
            "Requirement already satisfied: markdown>=2.6.8 in /usr/local/lib/python2.7/dist-packages (from tensorboard<1.15.0,>=1.14.0->tensorflow_gpu) (3.1.1)\n",
            "Requirement already satisfied: tensorflow==1.14.0 in /usr/local/lib/python2.7/dist-packages (1.14.0)\n",
            "Requirement already satisfied: grpcio>=1.8.6 in /usr/local/lib/python2.7/dist-packages (from tensorflow==1.14.0) (1.15.0)\n",
            "Requirement already satisfied: mock>=2.0.0 in /usr/local/lib/python2.7/dist-packages (from tensorflow==1.14.0) (2.0.0)\n",
            "Requirement already satisfied: keras-applications>=1.0.6 in /usr/local/lib/python2.7/dist-packages (from tensorflow==1.14.0) (1.0.8)\n",
            "Requirement already satisfied: tensorboard<1.15.0,>=1.14.0 in /usr/local/lib/python2.7/dist-packages (from tensorflow==1.14.0) (1.14.0)\n",
            "Requirement already satisfied: wrapt>=1.11.1 in /usr/local/lib/python2.7/dist-packages (from tensorflow==1.14.0) (1.11.2)\n",
            "Requirement already satisfied: protobuf>=3.6.1 in /usr/local/lib/python2.7/dist-packages (from tensorflow==1.14.0) (3.8.0)\n",
            "Requirement already satisfied: keras-preprocessing>=1.0.5 in /usr/local/lib/python2.7/dist-packages (from tensorflow==1.14.0) (1.1.0)\n",
            "Requirement already satisfied: gast>=0.2.0 in /usr/local/lib/python2.7/dist-packages (from tensorflow==1.14.0) (0.2.2)\n",
            "Requirement already satisfied: wheel in /usr/local/lib/python2.7/dist-packages (from tensorflow==1.14.0) (0.36.2)\n",
            "Requirement already satisfied: numpy<2.0,>=1.14.5 in /usr/local/lib/python2.7/dist-packages (from tensorflow==1.14.0) (1.16.4)\n",
            "Requirement already satisfied: termcolor>=1.1.0 in /usr/local/lib/python2.7/dist-packages (from tensorflow==1.14.0) (1.1.0)\n",
            "Requirement already satisfied: six>=1.10.0 in /usr/local/lib/python2.7/dist-packages (from tensorflow==1.14.0) (1.15.0)\n",
            "Requirement already satisfied: absl-py>=0.7.0 in /usr/local/lib/python2.7/dist-packages (from tensorflow==1.14.0) (0.7.1)\n",
            "Requirement already satisfied: tensorflow-estimator<1.15.0rc0,>=1.14.0rc0 in /usr/local/lib/python2.7/dist-packages (from tensorflow==1.14.0) (1.14.0)\n",
            "Requirement already satisfied: google-pasta>=0.1.6 in /usr/local/lib/python2.7/dist-packages (from tensorflow==1.14.0) (0.1.7)\n",
            "Requirement already satisfied: backports.weakref>=1.0rc1 in /usr/local/lib/python2.7/dist-packages (from tensorflow==1.14.0) (1.0.post1)\n",
            "Requirement already satisfied: enum34>=1.1.6 in /usr/local/lib/python2.7/dist-packages (from tensorflow==1.14.0) (1.1.6)\n",
            "Requirement already satisfied: astor>=0.6.0 in /usr/local/lib/python2.7/dist-packages (from tensorflow==1.14.0) (0.8.1)\n",
            "Requirement already satisfied: futures>=2.2.0 in /usr/local/lib/python2.7/dist-packages (from grpcio>=1.8.6->tensorflow==1.14.0) (3.2.0)\n",
            "Requirement already satisfied: funcsigs>=1; python_version < \"3.3\" in /usr/local/lib/python2.7/dist-packages (from mock>=2.0.0->tensorflow==1.14.0) (1.0.2)\n",
            "Requirement already satisfied: pbr>=0.11 in /usr/local/lib/python2.7/dist-packages (from mock>=2.0.0->tensorflow==1.14.0) (5.4.0)\n",
            "Requirement already satisfied: h5py in /usr/local/lib/python2.7/dist-packages (from keras-applications>=1.0.6->tensorflow==1.14.0) (2.8.0)\n",
            "Requirement already satisfied: setuptools>=41.0.0 in /usr/local/lib/python2.7/dist-packages (from tensorboard<1.15.0,>=1.14.0->tensorflow==1.14.0) (44.1.1)\n",
            "Requirement already satisfied: werkzeug>=0.11.15 in /usr/local/lib/python2.7/dist-packages (from tensorboard<1.15.0,>=1.14.0->tensorflow==1.14.0) (0.15.5)\n",
            "Requirement already satisfied: markdown>=2.6.8 in /usr/local/lib/python2.7/dist-packages (from tensorboard<1.15.0,>=1.14.0->tensorflow==1.14.0) (3.1.1)\n",
            "Requirement already satisfied: tensorflow_gpu==1.14.0 in /usr/local/lib/python2.7/dist-packages (1.14.0)\n",
            "Requirement already satisfied: grpcio>=1.8.6 in /usr/local/lib/python2.7/dist-packages (from tensorflow_gpu==1.14.0) (1.15.0)\n",
            "Requirement already satisfied: mock>=2.0.0 in /usr/local/lib/python2.7/dist-packages (from tensorflow_gpu==1.14.0) (2.0.0)\n",
            "Requirement already satisfied: keras-applications>=1.0.6 in /usr/local/lib/python2.7/dist-packages (from tensorflow_gpu==1.14.0) (1.0.8)\n",
            "Requirement already satisfied: wrapt>=1.11.1 in /usr/local/lib/python2.7/dist-packages (from tensorflow_gpu==1.14.0) (1.11.2)\n",
            "Requirement already satisfied: protobuf>=3.6.1 in /usr/local/lib/python2.7/dist-packages (from tensorflow_gpu==1.14.0) (3.8.0)\n",
            "Requirement already satisfied: keras-preprocessing>=1.0.5 in /usr/local/lib/python2.7/dist-packages (from tensorflow_gpu==1.14.0) (1.1.0)\n",
            "Requirement already satisfied: gast>=0.2.0 in /usr/local/lib/python2.7/dist-packages (from tensorflow_gpu==1.14.0) (0.2.2)\n",
            "Requirement already satisfied: wheel in /usr/local/lib/python2.7/dist-packages (from tensorflow_gpu==1.14.0) (0.36.2)\n",
            "Requirement already satisfied: numpy<2.0,>=1.14.5 in /usr/local/lib/python2.7/dist-packages (from tensorflow_gpu==1.14.0) (1.16.4)\n",
            "Requirement already satisfied: termcolor>=1.1.0 in /usr/local/lib/python2.7/dist-packages (from tensorflow_gpu==1.14.0) (1.1.0)\n",
            "Requirement already satisfied: six>=1.10.0 in /usr/local/lib/python2.7/dist-packages (from tensorflow_gpu==1.14.0) (1.15.0)\n",
            "Requirement already satisfied: tensorboard<1.15.0,>=1.14.0 in /usr/local/lib/python2.7/dist-packages (from tensorflow_gpu==1.14.0) (1.14.0)\n",
            "Requirement already satisfied: absl-py>=0.7.0 in /usr/local/lib/python2.7/dist-packages (from tensorflow_gpu==1.14.0) (0.7.1)\n",
            "Requirement already satisfied: enum34>=1.1.6 in /usr/local/lib/python2.7/dist-packages (from tensorflow_gpu==1.14.0) (1.1.6)\n",
            "Requirement already satisfied: tensorflow-estimator<1.15.0rc0,>=1.14.0rc0 in /usr/local/lib/python2.7/dist-packages (from tensorflow_gpu==1.14.0) (1.14.0)\n",
            "Requirement already satisfied: google-pasta>=0.1.6 in /usr/local/lib/python2.7/dist-packages (from tensorflow_gpu==1.14.0) (0.1.7)\n",
            "Requirement already satisfied: backports.weakref>=1.0rc1 in /usr/local/lib/python2.7/dist-packages (from tensorflow_gpu==1.14.0) (1.0.post1)\n",
            "Requirement already satisfied: astor>=0.6.0 in /usr/local/lib/python2.7/dist-packages (from tensorflow_gpu==1.14.0) (0.8.1)\n",
            "Requirement already satisfied: futures>=2.2.0 in /usr/local/lib/python2.7/dist-packages (from grpcio>=1.8.6->tensorflow_gpu==1.14.0) (3.2.0)\n",
            "Requirement already satisfied: funcsigs>=1; python_version < \"3.3\" in /usr/local/lib/python2.7/dist-packages (from mock>=2.0.0->tensorflow_gpu==1.14.0) (1.0.2)\n",
            "Requirement already satisfied: pbr>=0.11 in /usr/local/lib/python2.7/dist-packages (from mock>=2.0.0->tensorflow_gpu==1.14.0) (5.4.0)\n",
            "Requirement already satisfied: h5py in /usr/local/lib/python2.7/dist-packages (from keras-applications>=1.0.6->tensorflow_gpu==1.14.0) (2.8.0)\n",
            "Requirement already satisfied: setuptools in /usr/local/lib/python2.7/dist-packages (from protobuf>=3.6.1->tensorflow_gpu==1.14.0) (44.1.1)\n",
            "Requirement already satisfied: werkzeug>=0.11.15 in /usr/local/lib/python2.7/dist-packages (from tensorboard<1.15.0,>=1.14.0->tensorflow_gpu==1.14.0) (0.15.5)\n",
            "Requirement already satisfied: markdown>=2.6.8 in /usr/local/lib/python2.7/dist-packages (from tensorboard<1.15.0,>=1.14.0->tensorflow_gpu==1.14.0) (3.1.1)\n"
          ],
          "name": "stdout"
        },
        {
          "output_type": "stream",
          "text": [
            "W0204 21:05:11.512485 139927220172672 estimator.py:453] Using temporary folder as model directory: /tmp/tmpyRXKm_\n"
          ],
          "name": "stderr"
        },
        {
          "output_type": "stream",
          "text": [
            "Training model...\n"
          ],
          "name": "stdout"
        },
        {
          "output_type": "stream",
          "text": [
            "W0204 21:05:13.159636 139927220172672 head.py:2027] Casting <dtype: 'int64'> labels to bool.\n",
            "W0204 21:05:13.507635 139927220172672 head.py:2027] Casting <dtype: 'int64'> labels to bool.\n",
            "W0204 21:05:13.583390 139927220172672 metrics_impl.py:804] Trapezoidal rule is known to produce incorrect PR-AUCs; please switch to \"careful_interpolation\" instead.\n",
            "W0204 21:05:13.609266 139927220172672 metrics_impl.py:804] Trapezoidal rule is known to produce incorrect PR-AUCs; please switch to \"careful_interpolation\" instead.\n"
          ],
          "name": "stderr"
        },
        {
          "output_type": "stream",
          "text": [
            "  Training loss after period 00 : 0.559\n"
          ],
          "name": "stdout"
        },
        {
          "output_type": "stream",
          "text": [
            "W0204 21:05:22.419166 139927220172672 head.py:2027] Casting <dtype: 'int64'> labels to bool.\n",
            "W0204 21:05:22.531966 139927220172672 head.py:2027] Casting <dtype: 'int64'> labels to bool.\n",
            "W0204 21:05:22.603458 139927220172672 metrics_impl.py:804] Trapezoidal rule is known to produce incorrect PR-AUCs; please switch to \"careful_interpolation\" instead.\n",
            "W0204 21:05:22.632589 139927220172672 metrics_impl.py:804] Trapezoidal rule is known to produce incorrect PR-AUCs; please switch to \"careful_interpolation\" instead.\n"
          ],
          "name": "stderr"
        },
        {
          "output_type": "stream",
          "text": [
            "  Training loss after period 01 : 0.534\n"
          ],
          "name": "stdout"
        },
        {
          "output_type": "stream",
          "text": [
            "W0204 21:05:31.242727 139927220172672 head.py:2027] Casting <dtype: 'int64'> labels to bool.\n",
            "W0204 21:05:31.353573 139927220172672 head.py:2027] Casting <dtype: 'int64'> labels to bool.\n",
            "W0204 21:05:31.424329 139927220172672 metrics_impl.py:804] Trapezoidal rule is known to produce incorrect PR-AUCs; please switch to \"careful_interpolation\" instead.\n",
            "W0204 21:05:31.451415 139927220172672 metrics_impl.py:804] Trapezoidal rule is known to produce incorrect PR-AUCs; please switch to \"careful_interpolation\" instead.\n"
          ],
          "name": "stderr"
        },
        {
          "output_type": "stream",
          "text": [
            "  Training loss after period 02 : 0.523\n"
          ],
          "name": "stdout"
        },
        {
          "output_type": "stream",
          "text": [
            "W0204 21:05:39.914318 139927220172672 head.py:2027] Casting <dtype: 'int64'> labels to bool.\n",
            "W0204 21:05:40.028925 139927220172672 head.py:2027] Casting <dtype: 'int64'> labels to bool.\n",
            "W0204 21:05:40.106348 139927220172672 metrics_impl.py:804] Trapezoidal rule is known to produce incorrect PR-AUCs; please switch to \"careful_interpolation\" instead.\n",
            "W0204 21:05:40.133035 139927220172672 metrics_impl.py:804] Trapezoidal rule is known to produce incorrect PR-AUCs; please switch to \"careful_interpolation\" instead.\n"
          ],
          "name": "stderr"
        },
        {
          "output_type": "stream",
          "text": [
            "  Training loss after period 03 : 0.516\n"
          ],
          "name": "stdout"
        },
        {
          "output_type": "stream",
          "text": [
            "W0204 21:05:48.584543 139927220172672 head.py:2027] Casting <dtype: 'int64'> labels to bool.\n",
            "W0204 21:05:48.689382 139927220172672 head.py:2027] Casting <dtype: 'int64'> labels to bool.\n",
            "W0204 21:05:48.765646 139927220172672 metrics_impl.py:804] Trapezoidal rule is known to produce incorrect PR-AUCs; please switch to \"careful_interpolation\" instead.\n",
            "W0204 21:05:48.792331 139927220172672 metrics_impl.py:804] Trapezoidal rule is known to produce incorrect PR-AUCs; please switch to \"careful_interpolation\" instead.\n"
          ],
          "name": "stderr"
        },
        {
          "output_type": "stream",
          "text": [
            "  Training loss after period 04 : 0.510\n"
          ],
          "name": "stdout"
        },
        {
          "output_type": "stream",
          "text": [
            "W0204 21:05:56.970166 139927220172672 head.py:2027] Casting <dtype: 'int64'> labels to bool.\n",
            "W0204 21:05:57.074179 139927220172672 head.py:2027] Casting <dtype: 'int64'> labels to bool.\n",
            "W0204 21:05:57.145797 139927220172672 metrics_impl.py:804] Trapezoidal rule is known to produce incorrect PR-AUCs; please switch to \"careful_interpolation\" instead.\n",
            "W0204 21:05:57.173721 139927220172672 metrics_impl.py:804] Trapezoidal rule is known to produce incorrect PR-AUCs; please switch to \"careful_interpolation\" instead.\n"
          ],
          "name": "stderr"
        },
        {
          "output_type": "stream",
          "text": [
            "  Training loss after period 05 : 0.506\n"
          ],
          "name": "stdout"
        },
        {
          "output_type": "stream",
          "text": [
            "W0204 21:06:05.326165 139927220172672 head.py:2027] Casting <dtype: 'int64'> labels to bool.\n",
            "W0204 21:06:05.434211 139927220172672 head.py:2027] Casting <dtype: 'int64'> labels to bool.\n",
            "W0204 21:06:05.506448 139927220172672 metrics_impl.py:804] Trapezoidal rule is known to produce incorrect PR-AUCs; please switch to \"careful_interpolation\" instead.\n",
            "W0204 21:06:05.530247 139927220172672 metrics_impl.py:804] Trapezoidal rule is known to produce incorrect PR-AUCs; please switch to \"careful_interpolation\" instead.\n"
          ],
          "name": "stderr"
        },
        {
          "output_type": "stream",
          "text": [
            "  Training loss after period 06 : 0.502\n"
          ],
          "name": "stdout"
        },
        {
          "output_type": "stream",
          "text": [
            "W0204 21:06:13.572417 139927220172672 head.py:2027] Casting <dtype: 'int64'> labels to bool.\n",
            "W0204 21:06:13.680797 139927220172672 head.py:2027] Casting <dtype: 'int64'> labels to bool.\n",
            "W0204 21:06:13.750348 139927220172672 metrics_impl.py:804] Trapezoidal rule is known to produce incorrect PR-AUCs; please switch to \"careful_interpolation\" instead.\n",
            "W0204 21:06:13.776886 139927220172672 metrics_impl.py:804] Trapezoidal rule is known to produce incorrect PR-AUCs; please switch to \"careful_interpolation\" instead.\n"
          ],
          "name": "stderr"
        },
        {
          "output_type": "stream",
          "text": [
            "  Training loss after period 07 : 0.499\n"
          ],
          "name": "stdout"
        },
        {
          "output_type": "stream",
          "text": [
            "W0204 21:06:22.182533 139927220172672 head.py:2027] Casting <dtype: 'int64'> labels to bool.\n",
            "W0204 21:06:22.293140 139927220172672 head.py:2027] Casting <dtype: 'int64'> labels to bool.\n",
            "W0204 21:06:22.368639 139927220172672 metrics_impl.py:804] Trapezoidal rule is known to produce incorrect PR-AUCs; please switch to \"careful_interpolation\" instead.\n",
            "W0204 21:06:22.394584 139927220172672 metrics_impl.py:804] Trapezoidal rule is known to produce incorrect PR-AUCs; please switch to \"careful_interpolation\" instead.\n"
          ],
          "name": "stderr"
        },
        {
          "output_type": "stream",
          "text": [
            "  Training loss after period 08 : 0.496\n"
          ],
          "name": "stdout"
        },
        {
          "output_type": "stream",
          "text": [
            "W0204 21:06:38.881663 139927220172672 head.py:2027] Casting <dtype: 'int64'> labels to bool.\n",
            "W0204 21:06:38.993794 139927220172672 head.py:2027] Casting <dtype: 'int64'> labels to bool.\n",
            "W0204 21:06:39.071837 139927220172672 metrics_impl.py:804] Trapezoidal rule is known to produce incorrect PR-AUCs; please switch to \"careful_interpolation\" instead.\n",
            "W0204 21:06:39.097909 139927220172672 metrics_impl.py:804] Trapezoidal rule is known to produce incorrect PR-AUCs; please switch to \"careful_interpolation\" instead.\n"
          ],
          "name": "stderr"
        },
        {
          "output_type": "stream",
          "text": [
            "  Training loss after period 09 : 0.494\n",
            "Final Training Loss: 0.494\n",
            "Final Validation Loss: 0.502\n"
          ],
          "name": "stdout"
        },
        {
          "output_type": "stream",
          "text": [
            "W0204 21:06:47.693562 139927220172672 head.py:2027] Casting <dtype: 'int64'> labels to bool.\n",
            "W0204 21:06:47.805613 139927220172672 head.py:2027] Casting <dtype: 'int64'> labels to bool.\n",
            "W0204 21:06:47.873687 139927220172672 metrics_impl.py:804] Trapezoidal rule is known to produce incorrect PR-AUCs; please switch to \"careful_interpolation\" instead.\n",
            "W0204 21:06:47.898344 139927220172672 metrics_impl.py:804] Trapezoidal rule is known to produce incorrect PR-AUCs; please switch to \"careful_interpolation\" instead.\n",
            "W0204 21:06:49.340368 139927220172672 estimator.py:453] Using temporary folder as model directory: /tmp/tmpc3brvz\n"
          ],
          "name": "stderr"
        },
        {
          "output_type": "stream",
          "text": [
            "AUC on the validation set: 0.74\n",
            "Accuracy on the validation set: 0.75\n",
            "Loss on the validation set: 0.50\n",
            "Training model...\n"
          ],
          "name": "stdout"
        },
        {
          "output_type": "stream",
          "text": [
            "W0204 21:06:51.317523 139927220172672 head.py:2027] Casting <dtype: 'int64'> labels to bool.\n",
            "W0204 21:06:51.426718 139927220172672 head.py:2027] Casting <dtype: 'int64'> labels to bool.\n",
            "W0204 21:06:51.498826 139927220172672 metrics_impl.py:804] Trapezoidal rule is known to produce incorrect PR-AUCs; please switch to \"careful_interpolation\" instead.\n",
            "W0204 21:06:51.524127 139927220172672 metrics_impl.py:804] Trapezoidal rule is known to produce incorrect PR-AUCs; please switch to \"careful_interpolation\" instead.\n"
          ],
          "name": "stderr"
        },
        {
          "output_type": "stream",
          "text": [
            "  Training loss after period 00 : 0.607\n"
          ],
          "name": "stdout"
        },
        {
          "output_type": "stream",
          "text": [
            "W0204 21:06:59.795836 139927220172672 head.py:2027] Casting <dtype: 'int64'> labels to bool.\n",
            "W0204 21:06:59.904536 139927220172672 head.py:2027] Casting <dtype: 'int64'> labels to bool.\n",
            "W0204 21:07:00.189842 139927220172672 metrics_impl.py:804] Trapezoidal rule is known to produce incorrect PR-AUCs; please switch to \"careful_interpolation\" instead.\n",
            "W0204 21:07:00.215297 139927220172672 metrics_impl.py:804] Trapezoidal rule is known to produce incorrect PR-AUCs; please switch to \"careful_interpolation\" instead.\n"
          ],
          "name": "stderr"
        },
        {
          "output_type": "stream",
          "text": [
            "  Training loss after period 01 : 0.570\n"
          ],
          "name": "stdout"
        },
        {
          "output_type": "stream",
          "text": [
            "W0204 21:07:08.250391 139927220172672 head.py:2027] Casting <dtype: 'int64'> labels to bool.\n",
            "W0204 21:07:08.359266 139927220172672 head.py:2027] Casting <dtype: 'int64'> labels to bool.\n",
            "W0204 21:07:08.431482 139927220172672 metrics_impl.py:804] Trapezoidal rule is known to produce incorrect PR-AUCs; please switch to \"careful_interpolation\" instead.\n",
            "W0204 21:07:08.457706 139927220172672 metrics_impl.py:804] Trapezoidal rule is known to produce incorrect PR-AUCs; please switch to \"careful_interpolation\" instead.\n"
          ],
          "name": "stderr"
        },
        {
          "output_type": "stream",
          "text": [
            "  Training loss after period 02 : 0.552\n"
          ],
          "name": "stdout"
        },
        {
          "output_type": "stream",
          "text": [
            "W0204 21:07:16.602468 139927220172672 head.py:2027] Casting <dtype: 'int64'> labels to bool.\n",
            "W0204 21:07:16.711709 139927220172672 head.py:2027] Casting <dtype: 'int64'> labels to bool.\n",
            "W0204 21:07:16.781687 139927220172672 metrics_impl.py:804] Trapezoidal rule is known to produce incorrect PR-AUCs; please switch to \"careful_interpolation\" instead.\n",
            "W0204 21:07:16.810719 139927220172672 metrics_impl.py:804] Trapezoidal rule is known to produce incorrect PR-AUCs; please switch to \"careful_interpolation\" instead.\n"
          ],
          "name": "stderr"
        },
        {
          "output_type": "stream",
          "text": [
            "  Training loss after period 03 : 0.541\n"
          ],
          "name": "stdout"
        },
        {
          "output_type": "stream",
          "text": [
            "W0204 21:07:24.788881 139927220172672 head.py:2027] Casting <dtype: 'int64'> labels to bool.\n",
            "W0204 21:07:24.897382 139927220172672 head.py:2027] Casting <dtype: 'int64'> labels to bool.\n",
            "W0204 21:07:25.183864 139927220172672 metrics_impl.py:804] Trapezoidal rule is known to produce incorrect PR-AUCs; please switch to \"careful_interpolation\" instead.\n",
            "W0204 21:07:25.209064 139927220172672 metrics_impl.py:804] Trapezoidal rule is known to produce incorrect PR-AUCs; please switch to \"careful_interpolation\" instead.\n"
          ],
          "name": "stderr"
        },
        {
          "output_type": "stream",
          "text": [
            "  Training loss after period 04 : 0.534\n"
          ],
          "name": "stdout"
        },
        {
          "output_type": "stream",
          "text": [
            "W0204 21:07:33.252101 139927220172672 head.py:2027] Casting <dtype: 'int64'> labels to bool.\n",
            "W0204 21:07:33.359052 139927220172672 head.py:2027] Casting <dtype: 'int64'> labels to bool.\n",
            "W0204 21:07:33.432710 139927220172672 metrics_impl.py:804] Trapezoidal rule is known to produce incorrect PR-AUCs; please switch to \"careful_interpolation\" instead.\n",
            "W0204 21:07:33.460061 139927220172672 metrics_impl.py:804] Trapezoidal rule is known to produce incorrect PR-AUCs; please switch to \"careful_interpolation\" instead.\n"
          ],
          "name": "stderr"
        },
        {
          "output_type": "stream",
          "text": [
            "  Training loss after period 05 : 0.529\n"
          ],
          "name": "stdout"
        },
        {
          "output_type": "stream",
          "text": [
            "W0204 21:07:41.707757 139927220172672 head.py:2027] Casting <dtype: 'int64'> labels to bool.\n",
            "W0204 21:07:41.815435 139927220172672 head.py:2027] Casting <dtype: 'int64'> labels to bool.\n",
            "W0204 21:07:41.886065 139927220172672 metrics_impl.py:804] Trapezoidal rule is known to produce incorrect PR-AUCs; please switch to \"careful_interpolation\" instead.\n",
            "W0204 21:07:41.911423 139927220172672 metrics_impl.py:804] Trapezoidal rule is known to produce incorrect PR-AUCs; please switch to \"careful_interpolation\" instead.\n"
          ],
          "name": "stderr"
        },
        {
          "output_type": "stream",
          "text": [
            "  Training loss after period 06 : 0.525\n"
          ],
          "name": "stdout"
        },
        {
          "output_type": "stream",
          "text": [
            "W0204 21:07:49.897733 139927220172672 head.py:2027] Casting <dtype: 'int64'> labels to bool.\n",
            "W0204 21:07:50.006944 139927220172672 head.py:2027] Casting <dtype: 'int64'> labels to bool.\n",
            "W0204 21:07:50.079426 139927220172672 metrics_impl.py:804] Trapezoidal rule is known to produce incorrect PR-AUCs; please switch to \"careful_interpolation\" instead.\n",
            "W0204 21:07:50.106018 139927220172672 metrics_impl.py:804] Trapezoidal rule is known to produce incorrect PR-AUCs; please switch to \"careful_interpolation\" instead.\n"
          ],
          "name": "stderr"
        },
        {
          "output_type": "stream",
          "text": [
            "  Training loss after period 07 : 0.522\n"
          ],
          "name": "stdout"
        },
        {
          "output_type": "stream",
          "text": [
            "W0204 21:07:58.256887 139927220172672 head.py:2027] Casting <dtype: 'int64'> labels to bool.\n",
            "W0204 21:07:58.378849 139927220172672 head.py:2027] Casting <dtype: 'int64'> labels to bool.\n",
            "W0204 21:07:58.456022 139927220172672 metrics_impl.py:804] Trapezoidal rule is known to produce incorrect PR-AUCs; please switch to \"careful_interpolation\" instead.\n",
            "W0204 21:07:58.481261 139927220172672 metrics_impl.py:804] Trapezoidal rule is known to produce incorrect PR-AUCs; please switch to \"careful_interpolation\" instead.\n"
          ],
          "name": "stderr"
        },
        {
          "output_type": "stream",
          "text": [
            "  Training loss after period 08 : 0.519\n"
          ],
          "name": "stdout"
        },
        {
          "output_type": "stream",
          "text": [
            "W0204 21:08:06.673074 139927220172672 head.py:2027] Casting <dtype: 'int64'> labels to bool.\n",
            "W0204 21:08:06.780071 139927220172672 head.py:2027] Casting <dtype: 'int64'> labels to bool.\n",
            "W0204 21:08:06.861144 139927220172672 metrics_impl.py:804] Trapezoidal rule is known to produce incorrect PR-AUCs; please switch to \"careful_interpolation\" instead.\n",
            "W0204 21:08:06.889655 139927220172672 metrics_impl.py:804] Trapezoidal rule is known to produce incorrect PR-AUCs; please switch to \"careful_interpolation\" instead.\n"
          ],
          "name": "stderr"
        },
        {
          "output_type": "stream",
          "text": [
            "  Training loss after period 09 : 0.516\n",
            "Final Training Loss: 0.516\n",
            "Final Validation Loss: 0.525\n"
          ],
          "name": "stdout"
        },
        {
          "output_type": "stream",
          "text": [
            "W0204 21:08:14.824256 139927220172672 head.py:2027] Casting <dtype: 'int64'> labels to bool.\n",
            "W0204 21:08:14.934521 139927220172672 head.py:2027] Casting <dtype: 'int64'> labels to bool.\n",
            "W0204 21:08:15.011785 139927220172672 metrics_impl.py:804] Trapezoidal rule is known to produce incorrect PR-AUCs; please switch to \"careful_interpolation\" instead.\n",
            "W0204 21:08:15.035856 139927220172672 metrics_impl.py:804] Trapezoidal rule is known to produce incorrect PR-AUCs; please switch to \"careful_interpolation\" instead.\n"
          ],
          "name": "stderr"
        },
        {
          "output_type": "stream",
          "text": [
            "AUC on the validation set: 0.71\n",
            "Accuracy on the validation set: 0.75\n",
            "Loss on the validation set: 0.53\n"
          ],
          "name": "stdout"
        },
        {
          "output_type": "display_data",
          "data": {
            "image/png": "[encoded data removed]",
            "text/plain": [
              "<Figure size 720x360 with 2 Axes>"
            ]
          },
          "metadata": {
            "tags": [],
            "needs_background": "light"
          }
        },
        {
          "output_type": "display_data",
          "data": {
            "image/png": "[encoded data removed]",
            "text/plain": [
              "<Figure size 720x360 with 2 Axes>"
            ]
          },
          "metadata": {
            "tags": [],
            "needs_background": "light"
          }
        }
      ]
    }
  ]
}