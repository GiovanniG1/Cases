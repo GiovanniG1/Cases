{
  "nbformat": 4,
  "nbformat_minor": 0,
  "metadata": {
    "colab": {
      "name": "Advanced_Programming_3_Metaclasses.ipynb",
      "provenance": [],
      "collapsed_sections": []
    },
    "kernelspec": {
      "name": "python3",
      "display_name": "Python 3"
    }
  },
  "cells": [
    {
      "cell_type": "markdown",
      "metadata": {
        "id": "S3ui7kCLYIQV"
      },
      "source": [
        "## Confidentiality\r\n",
        "\r\n",
        "The programmatic cases in this notebook are utilized from different internet resources.\r\n",
        "\r\n",
        "Please do not copy or distribute this notebook."
      ]
    },
    {
      "cell_type": "markdown",
      "metadata": {
        "id": "_Srw8xPYmM5n"
      },
      "source": [
        "### Metaclasses\r\n",
        "\r\n",
        "Table of content\r\n",
        "\r\n",
        "1. Programmatic case 1 \r\n",
        "2. Programmatic case 2 \r\n",
        "3. Programmatic case 3\r\n",
        "4. Programmatic case 4\r\n",
        "5. Programmatic case 5\r\n",
        "6. Programmatic case 6 \r\n",
        "7. Programmatic case 7\r\n"
      ]
    },
    {
      "cell_type": "markdown",
      "metadata": {
        "id": "k-8mq5LcYQmi"
      },
      "source": [
        "## Introduction\r\n",
        "\r\n",
        "In this notebook, multiple programmatic cases are described to present how Python metaclasses work."
      ]
    },
    {
      "cell_type": "markdown",
      "metadata": {
        "id": "l8JY8w9LYupE"
      },
      "source": [
        "## Previous knowledge\r\n",
        "\r\n",
        "Please study the following resources for a deep understanding of this notebook.\r\n",
        "\r\n",
        "1.   https://bit.ly/3nFz0FL\r\n",
        "2.   https://bit.ly/37ApGgF\r\n",
        "(Python Metaclasses topics)"
      ]
    },
    {
      "cell_type": "markdown",
      "metadata": {
        "id": "3NGKy4vO04oD"
      },
      "source": [
        "### Programmatic case 1\r\n"
      ]
    },
    {
      "cell_type": "code",
      "metadata": {
        "id": "EWG7esOlEky4",
        "colab": {
          "base_uri": "https://localhost:8080/"
        },
        "outputId": "b577ede3-8664-46da-d710-210d1b90f3bd"
      },
      "source": [
        "\r\n",
        "class LittleMeta(type):\r\n",
        "    def __new__(cls, clsname, superclasses, attributedict):\r\n",
        "        print(\"clsname: \", clsname)\r\n",
        "        print(\"superclasses: \", superclasses)\r\n",
        "        print(\"attributedict: \", attributedict)\r\n",
        "        return type.__new__(cls, clsname, superclasses, attributedict)\r\n",
        "\r\n",
        "class S:\r\n",
        "    pass\r\n",
        "\r\n",
        "\r\n",
        "class A(S, metaclass=LittleMeta):\r\n",
        "    pass"
      ],
      "execution_count": null,
      "outputs": [
        {
          "output_type": "stream",
          "text": [
            "clsname:  A\n",
            "superclasses:  (<class '__main__.S'>,)\n",
            "attributedict:  {'__module__': '__main__', '__qualname__': 'A'}\n"
          ],
          "name": "stdout"
        }
      ]
    },
    {
      "cell_type": "markdown",
      "metadata": {
        "id": "7gkvqvrCfSD7"
      },
      "source": [
        "### Programmatic case 2"
      ]
    },
    {
      "cell_type": "code",
      "metadata": {
        "colab": {
          "base_uri": "https://localhost:8080/"
        },
        "id": "ZXOwxI4EecRn",
        "outputId": "32c2d1c4-658a-4d9b-894b-58069d4e3a42"
      },
      "source": [
        "x = input(\"Do you need the answer? (y/n): \")\r\n",
        "if x.lower() == \"y\":\r\n",
        "    required = True\r\n",
        "else:\r\n",
        "    required = False\r\n",
        "\r\n",
        "    \r\n",
        "def the_answer(self, *args):              \r\n",
        "        return 42\r\n",
        "\r\n",
        "    \r\n",
        "class ConsultancyAnswers(type):\r\n",
        "    \r\n",
        "    def __init__(cls, clsname, superclasses, attributedict):\r\n",
        "        if required:\r\n",
        "            cls.the_answer = the_answer\r\n",
        "                           \r\n",
        "    \r\n",
        "class Consultant1(metaclass=EssentialAnswers): \r\n",
        "    pass\r\n",
        "\r\n",
        "\r\n",
        "class Consultant2(metaclass=EssentialAnswers): \r\n",
        "    pass\r\n",
        "\r\n",
        "\r\n",
        "class Consultant3(metaclass=EssentialAnswers): \r\n",
        "    pass\r\n",
        "    \r\n",
        "    \r\n",
        "Person1 = Consultant1()\r\n",
        "print(Person1.the_answer())\r\n",
        "\r\n",
        "\r\n",
        "Person2 = Consultant2()\r\n",
        "\r\n",
        "print(Person2.the_answer())"
      ],
      "execution_count": null,
      "outputs": [
        {
          "output_type": "stream",
          "text": [
            "Do you need the answer? (y/n): y\n",
            "42\n",
            "42\n"
          ],
          "name": "stdout"
        }
      ]
    },
    {
      "cell_type": "markdown",
      "metadata": {
        "id": "Gl2MI2cZdkSq"
      },
      "source": [
        "### Programmatic case 3"
      ]
    },
    {
      "cell_type": "code",
      "metadata": {
        "colab": {
          "base_uri": "https://localhost:8080/"
        },
        "id": "NF54JvWXh88b",
        "outputId": "8a439097-8973-4448-973a-bb3d25b7cf83"
      },
      "source": [
        "class Singleton(type):\r\n",
        "    _instances = {}\r\n",
        "    def __call__(cls, *args, **kwargs):\r\n",
        "        if cls not in cls._instances:\r\n",
        "            cls._instances[cls] = super(Singleton, cls).__call__(*args, **kwargs)\r\n",
        "        return cls._instances[cls]\r\n",
        "    \r\n",
        "    \r\n",
        "class SingletonClass(metaclass=Singleton):\r\n",
        "    pass\r\n",
        "\r\n",
        "\r\n",
        "class RegularClass():\r\n",
        "    pass\r\n",
        "\r\n",
        "\r\n",
        "x = SingletonClass()\r\n",
        "y = SingletonClass()\r\n",
        "print(x == y)\r\n",
        "\r\n",
        "\r\n",
        "x = RegularClass()\r\n",
        "y = RegularClass()\r\n",
        "print(x == y)"
      ],
      "execution_count": null,
      "outputs": [
        {
          "output_type": "stream",
          "text": [
            "True\n",
            "False\n"
          ],
          "name": "stdout"
        }
      ]
    },
    {
      "cell_type": "markdown",
      "metadata": {
        "id": "XXhQLwKiiIKA"
      },
      "source": [
        "Alternatively, you can create Singleton classes by inheriting from a Singleton class, which can be defined like this\r\n",
        "\r\n",
        "### Programmatic case 4"
      ]
    },
    {
      "cell_type": "code",
      "metadata": {
        "colab": {
          "base_uri": "https://localhost:8080/"
        },
        "id": "wNFOSNtqiGX8",
        "outputId": "6d20f279-045f-4a13-a58f-e7988e76f21e"
      },
      "source": [
        "class Singleton(object):\r\n",
        "    _instance = None\r\n",
        "    def __new__(cls, *args, **kwargs):\r\n",
        "        if not cls._instance:\r\n",
        "            cls._instance = object.__new__(cls, *args, **kwargs)\r\n",
        "        return cls._instance\r\n",
        "\r\n",
        "    \r\n",
        "class SingletonClass(Singleton):\r\n",
        "    pass\r\n",
        "\r\n",
        "class RegularClass():\r\n",
        "    pass\r\n",
        "\r\n",
        "\r\n",
        "x = SingletonClass()\r\n",
        "y = SingletonClass()\r\n",
        "print(x == y)\r\n",
        "\r\n",
        "\r\n",
        "x = RegularClass()\r\n",
        "y = RegularClass()\r\n",
        "print(x == y)"
      ],
      "execution_count": null,
      "outputs": [
        {
          "output_type": "stream",
          "text": [
            "True\n",
            "False\n"
          ],
          "name": "stdout"
        }
      ]
    },
    {
      "cell_type": "markdown",
      "metadata": {
        "id": "4PwFssQBsH2I"
      },
      "source": [
        "### Programmatic case 5"
      ]
    },
    {
      "cell_type": "code",
      "metadata": {
        "id": "JlKCpragoX6Y"
      },
      "source": [
        "# Metaclass \r\n",
        "class MultiBases(type): \r\n",
        "    # overriding __new__ method \r\n",
        "    def __new__(cls, clsname, bases, clsdict): \r\n",
        "        # if no of base classes is greator than 1 \r\n",
        "        # raise error \r\n",
        "        if len(bases)>1: \r\n",
        "            raise TypeError(\"Inherited multiple base classes!!!\") \r\n",
        "          \r\n",
        "        # else execute __new__ method of super class, ie. \r\n",
        "        # call __init__ of type class \r\n",
        "        return super().__new__(cls, clsname, bases, clsdict) \r\n",
        "  \r\n",
        "# metaclass can be specified by 'metaclass' keyword argument. \r\n",
        "# Now MultiBase class is used for creating classes.\r\n",
        "# This will be declared to all subclasses of Base \r\n",
        "class Base(metaclass=MultiBases): \r\n",
        "    pass\r\n",
        "  \r\n",
        "# no error is raised \r\n",
        "class A(Base): \r\n",
        "    pass\r\n",
        "  \r\n",
        "# no error is raised \r\n",
        "class B(Base): \r\n",
        "    pass\r\n",
        "  \r\n",
        "This will raise an error! \r\n",
        "class C(A, B): \r\n",
        "    pass"
      ],
      "execution_count": null,
      "outputs": []
    },
    {
      "cell_type": "markdown",
      "metadata": {
        "id": "Xbv99XUVuTGp"
      },
      "source": [
        "### Programmatic case 6"
      ]
    },
    {
      "cell_type": "code",
      "metadata": {
        "colab": {
          "base_uri": "https://localhost:8080/"
        },
        "id": "9XV6curHtNuo",
        "outputId": "12aa4418-f679-4997-8316-23fd371adf6d"
      },
      "source": [
        "from functools import wraps \r\n",
        "  \r\n",
        "def debug(func): \r\n",
        "    '''decorator for debugging passed function'''\r\n",
        "      \r\n",
        "    @wraps(func) \r\n",
        "    def wrapper(*args, **kwargs): \r\n",
        "        print(\"Full name of this method:\", func.__qualname__) \r\n",
        "        return func(*args, **kwargs) \r\n",
        "    return wrapper \r\n",
        "  \r\n",
        "def debugmethods(cls): \r\n",
        "    '''class decorator make use of debug decorator \r\n",
        "       to debug class methods '''\r\n",
        "      \r\n",
        "    # checking in class dictionary for any callable(method) \r\n",
        "    # if exist, replace it with debugged version \r\n",
        "    for key, val in vars(cls).items(): \r\n",
        "        if callable(val): \r\n",
        "            setattr(cls, key, debug(val)) \r\n",
        "    return cls\r\n",
        "  \r\n",
        "# sample class \r\n",
        "@debugmethods\r\n",
        "class Calc: \r\n",
        "    def add(self, x, y): \r\n",
        "        return x+y \r\n",
        "    def mul(self, x, y): \r\n",
        "        return x*y \r\n",
        "    def div(self, x, y): \r\n",
        "        return x/y \r\n",
        "      \r\n",
        "mycal = Calc() \r\n",
        "print(mycal.add(2, 3)) \r\n",
        "print(mycal.mul(5, 2)) "
      ],
      "execution_count": null,
      "outputs": [
        {
          "output_type": "stream",
          "text": [
            "Full name of this method: Calc.add\n",
            "5\n",
            "Full name of this method: Calc.mul\n",
            "10\n"
          ],
          "name": "stdout"
        }
      ]
    },
    {
      "cell_type": "markdown",
      "metadata": {
        "id": "yOfEIX3Tvw-E"
      },
      "source": [
        "### Programmatic case 7"
      ]
    },
    {
      "cell_type": "code",
      "metadata": {
        "colab": {
          "base_uri": "https://localhost:8080/"
        },
        "id": "o9lCkBnqvFvY",
        "outputId": "cca707a9-3775-42c4-c694-5a8e64bd4efd"
      },
      "source": [
        "from functools import wraps \r\n",
        "  \r\n",
        "def debug(func): \r\n",
        "    '''decorator for debugging passed function'''\r\n",
        "      \r\n",
        "    @wraps(func) \r\n",
        "    def wrapper(*args, **kwargs): \r\n",
        "        print(\"Full name of this method:\", func.__qualname__) \r\n",
        "        return func(*args, **kwargs) \r\n",
        "    return wrapper \r\n",
        "  \r\n",
        "def debugmethods(cls): \r\n",
        "    '''class decorator make use of debug decorator \r\n",
        "       to debug class methods '''\r\n",
        "      \r\n",
        "    for key, val in vars(cls).items(): \r\n",
        "        if callable(val): \r\n",
        "            setattr(cls, key, debug(val)) \r\n",
        "    return cls\r\n",
        "  \r\n",
        "class debugMeta(type): \r\n",
        "    '''meta class which feed created class object \r\n",
        "       to debugmethod to get debug functionality \r\n",
        "       enabled objects'''\r\n",
        "      \r\n",
        "    def __new__(cls, clsname, bases, clsdict): \r\n",
        "        obj = super().__new__(cls, clsname, bases, clsdict) \r\n",
        "        obj = debugmethods(obj) \r\n",
        "        return obj \r\n",
        "      \r\n",
        "# Base class with metaclass 'debugMeta'.\r\n",
        "# Now all the subclass of this  \r\n",
        "# will have debugging applied.\r\n",
        "class Base(metaclass=debugMeta):pass\r\n",
        "  \r\n",
        "# Inheriting Base. \r\n",
        "class Calc(Base): \r\n",
        "    def add(self, x, y): \r\n",
        "        return x+y \r\n",
        "      \r\n",
        "# Inheriting Calc.\r\n",
        "class Calc_adv(Calc): \r\n",
        "    def mul(self, x, y): \r\n",
        "        return x*y \r\n",
        "  \r\n",
        "# Now Calc_adv object showing \r\n",
        "# debugging behaviour. \r\n",
        "mycal = Calc_adv() \r\n",
        "print(mycal.mul(2, 3)) "
      ],
      "execution_count": null,
      "outputs": [
        {
          "output_type": "stream",
          "text": [
            "Full name of this method: Calc_adv.mul\n",
            "6\n"
          ],
          "name": "stdout"
        }
      ]
    }
  ]
}