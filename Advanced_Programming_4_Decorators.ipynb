{
  "nbformat": 4,
  "nbformat_minor": 0,
  "metadata": {
    "colab": {
      "name": "Advanced_Programming_4_Decorators.ipynb",
      "provenance": [],
      "collapsed_sections": []
    },
    "kernelspec": {
      "name": "python3",
      "display_name": "Python 3"
    }
  },
  "cells": [
    {
      "cell_type": "markdown",
      "metadata": {
        "id": "TLmvi_K9ffIg"
      },
      "source": [
        "## Confidentiality\r\n",
        "\r\n",
        "The programmatic cases in this notebook are utilized from different internet resources.\r\n",
        "\r\n",
        "Please do not copy or distribute this notebook."
      ]
    },
    {
      "cell_type": "markdown",
      "metadata": {
        "id": "fYSQBdmr5fzv"
      },
      "source": [
        "### Decorators\r\n",
        "\r\n",
        "Table of content\r\n",
        "\r\n",
        "1. Programmatic case 1 \r\n",
        "2. Programmatic case 2 \r\n",
        "3. Programmatic case 3\r\n",
        "4. Programmatic case 4\r\n",
        "5. Programmatic case 5"
      ]
    },
    {
      "cell_type": "markdown",
      "metadata": {
        "id": "P19U3zAIfp1M"
      },
      "source": [
        "## Introduction\r\n",
        "\r\n",
        "In this notebook, multiple programmatic cases are described to present how Python decorators work."
      ]
    },
    {
      "cell_type": "markdown",
      "metadata": {
        "id": "Xs8Jx6_EfvIT"
      },
      "source": [
        "## Previous knowledge\r\n",
        "\r\n",
        "Please study the following resources for a deep understanding of this notebook.\r\n",
        "\r\n",
        "1.   https://bit.ly/2WxeH1e \r\n",
        "2.   https://bit.ly/34uFe3C \r\n",
        "(Python Decorator topics)"
      ]
    },
    {
      "cell_type": "markdown",
      "metadata": {
        "id": "IWlDKto1enyo"
      },
      "source": [
        "#### Programmatic case 1"
      ]
    },
    {
      "cell_type": "code",
      "metadata": {
        "colab": {
          "base_uri": "https://localhost:8080/",
          "height": 35
        },
        "id": "qJdvwxpVeZcn",
        "outputId": "6f3fa35c-cde8-4fc2-b2b7-82819844321a"
      },
      "source": [
        "def uppercase_decorator(function):\r\n",
        "    def wrapper():\r\n",
        "        func = function()\r\n",
        "        make_uppercase = func.upper()\r\n",
        "        return make_uppercase\r\n",
        "\r\n",
        "    return wrapper\r\n",
        "\r\n",
        "def say_hi():\r\n",
        "    return 'hello there'\r\n",
        "\r\n",
        "decorate = uppercase_decorator(say_hi)\r\n",
        "decorate()"
      ],
      "execution_count": null,
      "outputs": [
        {
          "output_type": "execute_result",
          "data": {
            "application/vnd.google.colaboratory.intrinsic+json": {
              "type": "string"
            },
            "text/plain": [
              "'HELLO THERE'"
            ]
          },
          "metadata": {
            "tags": []
          },
          "execution_count": 1
        }
      ]
    },
    {
      "cell_type": "code",
      "metadata": {
        "colab": {
          "base_uri": "https://localhost:8080/",
          "height": 35
        },
        "id": "ES7M1wZpgFie",
        "outputId": "82b37e6f-f279-4adb-bc27-77186dec73d4"
      },
      "source": [
        "@uppercase_decorator\r\n",
        "def say_hi():\r\n",
        "    return 'hello there'\r\n",
        "\r\n",
        "say_hi()"
      ],
      "execution_count": null,
      "outputs": [
        {
          "output_type": "execute_result",
          "data": {
            "application/vnd.google.colaboratory.intrinsic+json": {
              "type": "string"
            },
            "text/plain": [
              "'HELLO THERE'"
            ]
          },
          "metadata": {
            "tags": []
          },
          "execution_count": 6
        }
      ]
    },
    {
      "cell_type": "markdown",
      "metadata": {
        "id": "OxsmobtJewFZ"
      },
      "source": [
        "#### Programmatic case 2"
      ]
    },
    {
      "cell_type": "code",
      "metadata": {
        "colab": {
          "base_uri": "https://localhost:8080/"
        },
        "id": "FltvO7wDeYQu",
        "outputId": "930a0631-d58b-4a7f-9af2-e1664ba627c7"
      },
      "source": [
        "def uppercase_decorator(function):\r\n",
        "    def wrapper():\r\n",
        "        func = function()\r\n",
        "        make_uppercase = func.upper()\r\n",
        "        return make_uppercase\r\n",
        "\r\n",
        "    return wrapper\r\n",
        "\r\n",
        "def split_string(function):\r\n",
        "    def wrapper():\r\n",
        "        func = function()\r\n",
        "        splitted_string = func.split()\r\n",
        "        return splitted_string\r\n",
        "\r\n",
        "    return wrapper\r\n",
        "\r\n",
        "@split_string\r\n",
        "@uppercase_decorator\r\n",
        "def say_hi():\r\n",
        "    return 'hello there'\r\n",
        "say_hi()"
      ],
      "execution_count": null,
      "outputs": [
        {
          "output_type": "execute_result",
          "data": {
            "text/plain": [
              "['HELLO', 'THERE']"
            ]
          },
          "metadata": {
            "tags": []
          },
          "execution_count": 7
        }
      ]
    },
    {
      "cell_type": "markdown",
      "metadata": {
        "id": "vLPIXBHffN2I"
      },
      "source": [
        "#### Programmatic case 3"
      ]
    },
    {
      "cell_type": "code",
      "metadata": {
        "colab": {
          "base_uri": "https://localhost:8080/"
        },
        "id": "cMzjStLYfBLZ",
        "outputId": "4703c99c-98aa-40ce-a208-c12916a6ce67"
      },
      "source": [
        "def decorator_with_arguments(function):\r\n",
        "    def wrapper_accepting_arguments(arg1, arg2):\r\n",
        "        print(\"My arguments are: {0}, {1}\".format(arg1,arg2))\r\n",
        "        function(arg1, arg2)\r\n",
        "    return wrapper_accepting_arguments\r\n",
        "\r\n",
        "\r\n",
        "@decorator_with_arguments\r\n",
        "def cities(city_one, city_two):\r\n",
        "    print(\"Cities I love are {0} and {1}\".format(city_one, city_two))\r\n",
        "\r\n",
        "cities(\"New york\", \"London\")"
      ],
      "execution_count": null,
      "outputs": [
        {
          "output_type": "stream",
          "text": [
            "My arguments are: New york, London\n",
            "Cities I love are New york and London\n"
          ],
          "name": "stdout"
        }
      ]
    },
    {
      "cell_type": "markdown",
      "metadata": {
        "id": "xkxtm96TfWnF"
      },
      "source": [
        "#### Programmatic case 4"
      ]
    },
    {
      "cell_type": "code",
      "metadata": {
        "colab": {
          "base_uri": "https://localhost:8080/"
        },
        "id": "ORHCYcg7eEcU",
        "outputId": "817c9c91-d217-4175-acb6-6f684aec60ae"
      },
      "source": [
        "def a_decorator_passing_arbitrary_arguments(function_to_decorate):\r\n",
        "    def a_wrapper_accepting_arbitrary_arguments(*args,**kwargs):\r\n",
        "        print('The positional arguments are', args)\r\n",
        "        print('The keyword arguments are', kwargs)\r\n",
        "        function_to_decorate(*args)\r\n",
        "    return a_wrapper_accepting_arbitrary_arguments\r\n",
        "\r\n",
        "@a_decorator_passing_arbitrary_arguments\r\n",
        "def function_with_no_argument():\r\n",
        "    print(\"No arguments here.\")\r\n",
        "\r\n",
        "function_with_no_argument()"
      ],
      "execution_count": null,
      "outputs": [
        {
          "output_type": "stream",
          "text": [
            "The positional arguments are ()\n",
            "The keyword arguments are {}\n",
            "No arguments here.\n"
          ],
          "name": "stdout"
        }
      ]
    },
    {
      "cell_type": "code",
      "metadata": {
        "colab": {
          "base_uri": "https://localhost:8080/"
        },
        "id": "a8AJEBJNgcF7",
        "outputId": "1dca0ac7-6b49-451f-ae7c-fb05a6695627"
      },
      "source": [
        "@a_decorator_passing_arbitrary_arguments\r\n",
        "def function_with_arguments(a, b, c):\r\n",
        "    print(a, b, c)\r\n",
        "\r\n",
        "function_with_arguments(1,2,3)"
      ],
      "execution_count": null,
      "outputs": [
        {
          "output_type": "stream",
          "text": [
            "The positional arguments are (1, 2, 3)\n",
            "The keyword arguments are {}\n",
            "1 2 3\n"
          ],
          "name": "stdout"
        }
      ]
    },
    {
      "cell_type": "code",
      "metadata": {
        "colab": {
          "base_uri": "https://localhost:8080/"
        },
        "id": "C1ryPapP59EE",
        "outputId": "7a6827d4-9f56-4f54-8c6c-c7e3736fc31a"
      },
      "source": [
        "@a_decorator_passing_arbitrary_arguments\r\n",
        "def function_with_keyword_arguments():\r\n",
        "    print(\"This has shown keyword arguments\")\r\n",
        "\r\n",
        "function_with_keyword_arguments(first_name=\"Jonathan\", last_name=\"Goodguy\")"
      ],
      "execution_count": null,
      "outputs": [
        {
          "output_type": "stream",
          "text": [
            "The positional arguments are ()\n",
            "The keyword arguments are {'first_name': 'Jonathan', 'last_name': 'Goodguy'}\n",
            "This has shown keyword arguments\n"
          ],
          "name": "stdout"
        }
      ]
    },
    {
      "cell_type": "markdown",
      "metadata": {
        "id": "ov6rLo8A5fq8"
      },
      "source": [
        "#### Programmatic case 5"
      ]
    },
    {
      "cell_type": "code",
      "metadata": {
        "id": "4X5rAPJ15eIw",
        "colab": {
          "base_uri": "https://localhost:8080/"
        },
        "outputId": "ee5c368a-c893-420c-ccd0-ea52bfb4c478"
      },
      "source": [
        "def decorator_maker_with_arguments(decorator_arg1, decorator_arg2, decorator_arg3):\r\n",
        "    def decorator(func):\r\n",
        "        def wrapper(function_arg1, function_arg2, function_arg3) :\r\n",
        "            \"This is the wrapper function\"\r\n",
        "            print(\"The wrapper can access all the variables\\n\"\r\n",
        "                  \"\\t- from the decorator maker: {0} {1} {2}\\n\"\r\n",
        "                  \"\\t- from the function call: {3} {4} {5}\\n\"\r\n",
        "                  \"and pass them to the decorated function\"\r\n",
        "                  .format(decorator_arg1, decorator_arg2,decorator_arg3,\r\n",
        "                          function_arg1, function_arg2,function_arg3))\r\n",
        "            return func(function_arg1, function_arg2,function_arg3)\r\n",
        "\r\n",
        "        return wrapper\r\n",
        "\r\n",
        "    return decorator\r\n",
        "\r\n",
        "pandas = \"Pandas\"\r\n",
        "@decorator_maker_with_arguments(pandas, \"Numpy\",\"Scikit-learn\")\r\n",
        "def decorated_function_with_arguments(function_arg1, function_arg2,function_arg3):\r\n",
        "    print(\"This is the decorated function and it only knows about its arguments: {0}\"\r\n",
        "           \" {1}\" \" {2}\".format(function_arg1, function_arg2,function_arg3))\r\n",
        "\r\n",
        "decorated_function_with_arguments(pandas, \"Science\", \"Tools\")"
      ],
      "execution_count": null,
      "outputs": [
        {
          "output_type": "stream",
          "text": [
            "The wrapper can access all the variables\n",
            "\t- from the decorator maker: Pandas Numpy Scikit-learn\n",
            "\t- from the function call: Pandas Science Tools\n",
            "and pass them to the decorated function\n",
            "This is the decorated function and it only knows about its arguments: Pandas Science Tools\n"
          ],
          "name": "stdout"
        }
      ]
    }
  ]
}