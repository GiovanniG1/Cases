{
  "nbformat": 4,
  "nbformat_minor": 0,
  "metadata": {
    "colab": {
      "name": "Advanced_Programming_2_Inheritance.ipynb",
      "provenance": [],
      "collapsed_sections": []
    },
    "kernelspec": {
      "name": "python3",
      "display_name": "Python 3"
    }
  },
  "cells": [
    {
      "cell_type": "markdown",
      "metadata": {
        "id": "3Jtw37fytkNV"
      },
      "source": [
        "## Confidentiality\r\n",
        "\r\n",
        "The programmatic cases in this notebook are utilized from different internet resources.\r\n",
        "\r\n",
        "Please do not copy or distribute this notebook."
      ]
    },
    {
      "cell_type": "markdown",
      "metadata": {
        "id": "LLXizpvHvCjz"
      },
      "source": [
        "## Table of content\r\n",
        "\r\n",
        "Inheritance\r\n",
        "\r\n",
        "1. Programmatic case 1\r\n",
        "2. Programmatic case 2\r\n",
        "3. Programmatic case 3\r\n",
        "4. Programmatic case 4\r\n",
        "5. Programmatic case 5"
      ]
    },
    {
      "cell_type": "markdown",
      "metadata": {
        "id": "CvgAOkPTuJ0Q"
      },
      "source": [
        "## Introduction\r\n",
        "\r\n",
        "In this notebook, multiple programmatic cases are described to present how Python inheritance works."
      ]
    },
    {
      "cell_type": "markdown",
      "metadata": {
        "id": "u1HUHiW3t0Gl"
      },
      "source": [
        "## Previous knowledge\r\n",
        "\r\n",
        "Please study the following resources for a deep understanding of this notebook.\r\n",
        "\r\n",
        "1.   https://bit.ly/37EM60l\r\n",
        "(Section 9.5 Inheritance)\r\n",
        "2.   https://bit.ly/2WxHYZx \r\n",
        "(Python Inheritance topics)"
      ]
    },
    {
      "cell_type": "markdown",
      "metadata": {
        "id": "1whqESjpuU6V"
      },
      "source": [
        "### Programmatic case 1"
      ]
    },
    {
      "cell_type": "code",
      "metadata": {
        "colab": {
          "base_uri": "https://localhost:8080/"
        },
        "id": "JPw-iKQRymS7",
        "outputId": "d39a839b-6b91-4fa9-92d4-15f5583d1c92"
      },
      "source": [
        "# A Python program to present inheritance  \r\n",
        "   \r\n",
        "# Base or Super class. Note object in bracket.  \r\n",
        "# In Python 3.x \"class Person\" is  \r\n",
        "# equivalent to \"class Person(object)\" \r\n",
        "class Person(object): \r\n",
        "       \r\n",
        "    # Constructor \r\n",
        "    def __init__(self, name): \r\n",
        "        self.name = name \r\n",
        "   \r\n",
        "    # Get name \r\n",
        "    def getName(self): \r\n",
        "        return self.name \r\n",
        "   \r\n",
        "    # Check if this person is an employee \r\n",
        "    def isEmployee(self): \r\n",
        "        return False\r\n",
        "   \r\n",
        "   \r\n",
        "# Inherited or Subclass (Note Person in bracket) \r\n",
        "class Employee(Person): \r\n",
        "   \r\n",
        "    # Return true \r\n",
        "    def isEmployee(self): \r\n",
        "        return True\r\n",
        "   \r\n",
        "# Driver code \r\n",
        "emp = Person(\"Geek1\")  # An Object of Person \r\n",
        "print(emp.getName(), emp.isEmployee()) \r\n",
        "   \r\n",
        "emp = Employee(\"Geek2\") # An Object of Employee \r\n",
        "print(emp.getName(), emp.isEmployee()) \r\n"
      ],
      "execution_count": null,
      "outputs": [
        {
          "output_type": "stream",
          "text": [
            "Geek1 False\n",
            "Geek2 True\n"
          ],
          "name": "stdout"
        }
      ]
    },
    {
      "cell_type": "markdown",
      "metadata": {
        "id": "zzCYjxEOTqK_"
      },
      "source": [
        "### Programmatic case 2"
      ]
    },
    {
      "cell_type": "code",
      "metadata": {
        "colab": {
          "base_uri": "https://localhost:8080/"
        },
        "id": "UMSdtPMh0Bpl",
        "outputId": "f564694e-8ec4-4689-f255-29f8a0b41a15"
      },
      "source": [
        "# Python code to present how parent constructors \r\n",
        "# are called. \r\n",
        "  \r\n",
        "# parent class \r\n",
        "class Person( object ):     \r\n",
        "  \r\n",
        "        # __init__ is known as the constructor          \r\n",
        "        def __init__(self, name, idnumber):    \r\n",
        "                self.name = name \r\n",
        "                self.idnumber = idnumber \r\n",
        "        def display(self): \r\n",
        "                print(self.name) \r\n",
        "                print(self.idnumber) \r\n",
        "  \r\n",
        "# child class \r\n",
        "class Employee( Person ):            \r\n",
        "        def __init__(self, name, idnumber, salary, post): \r\n",
        "                self.salary = salary \r\n",
        "                self.post = post \r\n",
        "  \r\n",
        "                # invoking the __init__ of the parent class  \r\n",
        "                Person.__init__(self, name, idnumber)  \r\n",
        "  \r\n",
        "                  \r\n",
        "# creation of an object variable or an instance \r\n",
        "a = Employee('Jonathan', 886012, 200000, \"Medior\")     \r\n",
        "  \r\n",
        "# calling a function of the class Person using its instance \r\n",
        "a.display()  "
      ],
      "execution_count": null,
      "outputs": [
        {
          "output_type": "stream",
          "text": [
            "Jonathan\n",
            "886012\n"
          ],
          "name": "stdout"
        }
      ]
    },
    {
      "cell_type": "markdown",
      "metadata": {
        "id": "Tl1w8SPnT1GS"
      },
      "source": [
        "Programmatic case 3"
      ]
    },
    {
      "cell_type": "code",
      "metadata": {
        "colab": {
          "base_uri": "https://localhost:8080/"
        },
        "id": "s1KupoTG5yre",
        "outputId": "f5c0943d-8f2b-43a6-8d8f-8481fb13a14e"
      },
      "source": [
        "# Python example to show the working of multiple  \r\n",
        "# inheritance \r\n",
        "class Base1(object): \r\n",
        "    def __init__(self): \r\n",
        "        self.str1 = \"Geek1\"\r\n",
        "        print(\"Base1\") \r\n",
        "  \r\n",
        "class Base2(object): \r\n",
        "    def __init__(self): \r\n",
        "        self.str2 = \"Geek2\"        \r\n",
        "        print(\"Base2\") \r\n",
        "  \r\n",
        "class Derived(Base1, Base2): \r\n",
        "    def __init__(self): \r\n",
        "          \r\n",
        "        # Calling constructors of Base1 \r\n",
        "        # and Base2 classes \r\n",
        "        Base1.__init__(self) \r\n",
        "        Base2.__init__(self) \r\n",
        "        print(\"Derived\") \r\n",
        "          \r\n",
        "    def printStrs(self): \r\n",
        "        print(self.str1, self.str2) \r\n",
        "         \r\n",
        "  \r\n",
        "ob = Derived() \r\n",
        "ob.printStrs()"
      ],
      "execution_count": null,
      "outputs": [
        {
          "output_type": "stream",
          "text": [
            "Base1\n",
            "Base2\n",
            "Derived\n",
            "Geek1 Geek2\n"
          ],
          "name": "stdout"
        }
      ]
    },
    {
      "cell_type": "markdown",
      "metadata": {
        "id": "QRGJo6-jT-NY"
      },
      "source": [
        "Programmatic case 4"
      ]
    },
    {
      "cell_type": "code",
      "metadata": {
        "colab": {
          "base_uri": "https://localhost:8080/"
        },
        "id": "TNP9FWej5zHE",
        "outputId": "5aa54c73-7797-470a-b0ec-8a0e8b5f3605"
      },
      "source": [
        "# A Python program to present inheritance  \r\n",
        "  \r\n",
        "# Base or Super class. Note object in bracket. \r\n",
        "# In Python 3.x \"class Person\" is  \r\n",
        "# equivalent to \"class Person(object)\" \r\n",
        "class Base(object): \r\n",
        "      \r\n",
        "    # Constructor \r\n",
        "    def __init__(self, name): \r\n",
        "        self.name = name \r\n",
        "  \r\n",
        "    # Get name \r\n",
        "    def getName(self): \r\n",
        "        return self.name \r\n",
        "  \r\n",
        "  \r\n",
        "# Inherited or Sub class (Note Person in bracket) \r\n",
        "class Child(Base): \r\n",
        "      \r\n",
        "    # Constructor \r\n",
        "    def __init__(self, name, age): \r\n",
        "        Base.__init__(self, name) \r\n",
        "        self.age = age \r\n",
        "  \r\n",
        "    # Get name \r\n",
        "    def getAge(self): \r\n",
        "        return self.age \r\n",
        "  \r\n",
        "# Inherited or Sub class (Note Person in bracket) \r\n",
        "class GrandChild(Child): \r\n",
        "      \r\n",
        "    # Constructor \r\n",
        "    def __init__(self, name, age, address): \r\n",
        "        Child.__init__(self, name, age) \r\n",
        "        self.address = address \r\n",
        "  \r\n",
        "    # Get address \r\n",
        "    def getAddress(self): \r\n",
        "        return self.address         \r\n",
        "  \r\n",
        "# Driver code \r\n",
        "gc = GrandChild(\"Geek1\", 23, \"Noida\")   \r\n",
        "print(gc.getName(), gc.getAge(), gc.getAddress()) "
      ],
      "execution_count": null,
      "outputs": [
        {
          "output_type": "stream",
          "text": [
            "Geek1 23 Noida\n"
          ],
          "name": "stdout"
        }
      ]
    },
    {
      "cell_type": "markdown",
      "metadata": {
        "id": "IqAmvLfFUMDi"
      },
      "source": [
        "Programmatic case 5"
      ]
    },
    {
      "cell_type": "code",
      "metadata": {
        "colab": {
          "base_uri": "https://localhost:8080/"
        },
        "id": "-TpFFNTT7LAM",
        "outputId": "da9bfc90-6ff0-443c-ca49-4bf01ba6c12c"
      },
      "source": [
        "class Person:\r\n",
        "  def __init__(self, fname, lname):\r\n",
        "    self.firstname = fname\r\n",
        "    self.lastname = lname\r\n",
        "\r\n",
        "  def printname(self):\r\n",
        "    print(self.firstname, self.lastname)\r\n",
        "\r\n",
        "class Student(Person):\r\n",
        "  def __init__(self, fname, lname, year):\r\n",
        "    super().__init__(fname, lname)\r\n",
        "    self.graduationyear = year\r\n",
        "\r\n",
        "  def welcome(self):\r\n",
        "    print(\"Welcome\", self.firstname, self.lastname, \"to the class of\", self.graduationyear)\r\n",
        "\r\n",
        "x = Student(\"Jonathan\", \"Goodguy\", 2019)\r\n",
        "x.welcome()"
      ],
      "execution_count": null,
      "outputs": [
        {
          "output_type": "stream",
          "text": [
            "Welcome Jonathan Goodguy to the class of 2019\n"
          ],
          "name": "stdout"
        }
      ]
    }
  ]
}