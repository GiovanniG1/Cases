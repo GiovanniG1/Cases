{
  "nbformat": 4,
  "nbformat_minor": 0,
  "metadata": {
    "colab": {
      "name": "Advanced_programming_1_Classes.ipynb",
      "provenance": [],
      "collapsed_sections": []
    },
    "kernelspec": {
      "name": "python3",
      "display_name": "Python 3"
    }
  },
  "cells": [
    {
      "cell_type": "markdown",
      "metadata": {
        "id": "jwJQBq3uM2ma"
      },
      "source": [
        "## Confidentiality\r\n",
        "\r\n",
        "The programmatic cases in this notebook are utilized from different internet resources.\r\n",
        "\r\n",
        "Please do not copy or distribute this notebook."
      ]
    },
    {
      "cell_type": "markdown",
      "metadata": {
        "id": "sIOE-kg3HE3j"
      },
      "source": [
        "## Table of content\n",
        "\n",
        "Classes\n",
        "\n",
        "1. Programmatic case 1 \n",
        "2. Programmatic case 2 \n",
        "3. Programmatic case 3 "
      ]
    },
    {
      "cell_type": "markdown",
      "metadata": {
        "id": "UvAiUEz_M6rc"
      },
      "source": [
        "## Previous knowledge\r\n",
        "\r\n",
        "Please study the following resources for a deep understanding of this notebook.\r\n",
        "\r\n",
        "1.   https://bit.ly/3riG3GI\r\n",
        "(Section 9 Classes)\r\n",
        "2.   https://bit.ly/3rjmluo\r\n",
        "(Python Class topics)\r\n",
        "\r\n"
      ]
    },
    {
      "cell_type": "markdown",
      "metadata": {
        "id": "msFY8GTxM-Iq"
      },
      "source": [
        "## Introduction\r\n",
        "\r\n",
        "In this notebook, multiple programmatic cases are described to present how Python classes work."
      ]
    },
    {
      "cell_type": "markdown",
      "metadata": {
        "id": "vWsDmzjxTdWb"
      },
      "source": [
        "### Programmatic case 1"
      ]
    },
    {
      "cell_type": "code",
      "metadata": {
        "colab": {
          "base_uri": "https://localhost:8080/"
        },
        "id": "jt8_me0eYe_6",
        "outputId": "ba618407-6096-4d68-b07d-44ba4c138226"
      },
      "source": [
        "# Python program that presents that the variables with a value   \r\n",
        "# assigned in the class declaration, are class variables and  \r\n",
        "# variables inside methods and constructors are instance  \r\n",
        "# variables.  \r\n",
        "     \r\n",
        "# Class for Cat \r\n",
        "class Cat:  \r\n",
        "    \r\n",
        "    # Class Variable  \r\n",
        "    animal = 'cat'             \r\n",
        "    \r\n",
        "    # The init method or constructor  \r\n",
        "    def __init__(self, breed, color):  \r\n",
        "      \r\n",
        "        # Instance Variable      \r\n",
        "        self.breed = breed \r\n",
        "        self.color = color         \r\n",
        "     \r\n",
        "# Objects of Cat class  \r\n",
        "Goodcat_1 = Cat(\"Goodcat_1\", \"brown\")  \r\n",
        "Goodcat_2 = Cat(\"Goodcat_2\", \"black\")  \r\n",
        "  \r\n",
        "print('Goodcat_1 details:')    \r\n",
        "print('Goodcat_1 is a', Goodcat_1.animal)  \r\n",
        "print('Breed: ', Goodcat_1.breed) \r\n",
        "print('Color: ', Goodcat_1.color) \r\n",
        "  \r\n",
        "print('\\nBuzo details:')    \r\n",
        "print('Goodcat_2 is a', Goodcat_2.animal)  \r\n",
        "print('Breed: ', Goodcat_2.breed) \r\n",
        "print('Color: ', Goodcat_2.color) \r\n",
        "  \r\n",
        "# Class variables can be accessed using class  \r\n",
        "# name also  \r\n",
        "print(\"\\nAccessing class variable using class name\") \r\n",
        "print(Cat.animal)       "
      ],
      "execution_count": null,
      "outputs": [
        {
          "output_type": "stream",
          "text": [
            "Goodcat_1 details:\n",
            "Goodcat_1 is a cat\n",
            "Breed:  Goodcat_1\n",
            "Color:  brown\n",
            "\n",
            "Buzo details:\n",
            "Goodcat_2 is a cat\n",
            "Breed:  Goodcat_2\n",
            "Color:  black\n",
            "\n",
            "Accessing class variable using class name\n",
            "cat\n"
          ],
          "name": "stdout"
        }
      ]
    },
    {
      "cell_type": "markdown",
      "metadata": {
        "id": "z7P64bFvrCL4"
      },
      "source": [
        "### Programmatic case 2"
      ]
    },
    {
      "cell_type": "code",
      "metadata": {
        "id": "f1cU2Q3skr8n",
        "colab": {
          "base_uri": "https://localhost:8080/"
        },
        "outputId": "849eb890-bab7-4dcc-99ed-09a1ee8cdeb7"
      },
      "source": [
        "# Python program to present that you can create   \r\n",
        "# instance variables inside methods  \r\n",
        "     \r\n",
        "# Class for Cat  \r\n",
        "class Cat:  \r\n",
        "        \r\n",
        "    # Class Variable  \r\n",
        "    animal = 'cat'      \r\n",
        "        \r\n",
        "    # The init method or constructor  \r\n",
        "    def __init__(self, breed):  \r\n",
        "            \r\n",
        "        # Instance Variable  \r\n",
        "        self.breed = breed              \r\n",
        "    \r\n",
        "    # Adds an instance variable   \r\n",
        "    def setColor(self, color):  \r\n",
        "        self.color = color  \r\n",
        "        \r\n",
        "    # Retrieves instance variable      \r\n",
        "    def getColor(self):      \r\n",
        "        return self.color     \r\n",
        "    \r\n",
        "# Driver Code  \r\n",
        "Goodcat_1 = Cat(\"Goodcat_1\")  \r\n",
        "Goodcat_1.setColor(\"brown\")  \r\n",
        "print(Goodcat_1.getColor())   "
      ],
      "execution_count": null,
      "outputs": [
        {
          "output_type": "stream",
          "text": [
            "brown\n"
          ],
          "name": "stdout"
        }
      ]
    },
    {
      "cell_type": "markdown",
      "metadata": {
        "id": "9NO8Sy5krjcB"
      },
      "source": [
        "### Programmatic case 3"
      ]
    },
    {
      "cell_type": "code",
      "metadata": {
        "id": "7BA7N4iEksDe",
        "colab": {
          "base_uri": "https://localhost:8080/"
        },
        "outputId": "8f1b739f-2cca-40c4-beba-24cd3d596904"
      },
      "source": [
        "class ComplexNumber:\r\n",
        "    def __init__(self, r=0, i=0):\r\n",
        "        self.real = r\r\n",
        "        self.imag = i\r\n",
        "\r\n",
        "    def get_data(self):\r\n",
        "        print(f'{self.real}+{self.imag}j')\r\n",
        "\r\n",
        "\r\n",
        "# Creating a new ComplexNumber object\r\n",
        "num1 = ComplexNumber(2, 3)\r\n",
        "\r\n",
        "# Calling get_data() method\r\n",
        "# Output: 2+3j\r\n",
        "num1.get_data()\r\n",
        "\r\n",
        "# Creating another ComplexNumber object\r\n",
        "# and creating a new attribute 'attr'\r\n",
        "num2 = ComplexNumber(5)\r\n",
        "num2.attr = 10\r\n",
        "\r\n",
        "# Output: (5, 0, 10)\r\n",
        "print((num2.real, num2.imag, num2.attr))\r\n"
      ],
      "execution_count": null,
      "outputs": [
        {
          "output_type": "stream",
          "text": [
            "2+3j\n",
            "(5, 0, 10)\n"
          ],
          "name": "stdout"
        }
      ]
    }
  ]
}